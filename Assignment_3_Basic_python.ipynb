{
  "nbformat": 4,
  "nbformat_minor": 0,
  "metadata": {
    "colab": {
      "provenance": []
    },
    "kernelspec": {
      "name": "python3",
      "display_name": "Python 3"
    },
    "language_info": {
      "name": "python"
    }
  },
  "cells": [
    {
      "cell_type": "markdown",
      "source": [
        "#Exercise 1: Prime Numbers"
      ],
      "metadata": {
        "id": "hCdRj6phyWSN"
      }
    },
    {
      "cell_type": "code",
      "source": [
        "#Exercise 1: Prime Numbers\n",
        "\n",
        "num=int(input(\"Enter the number: \"))\n",
        "# Negative numbers, 0 and 1 are not primes\n",
        "#prime numbers are the greater than one or divided by 1 and themselves\n",
        "if num > 1:\n",
        "\n",
        "    # Iterate from 2 to n // 2\n",
        "    for i in range(2, (num//2)+1):\n",
        "\n",
        "        # If num is divisible by any number between\n",
        "        # 2 and n / 2, it is not prime\n",
        "        if (num % i) == 0:\n",
        "            print(num, \"is not a prime number\")\n",
        "            break\n",
        "    else:\n",
        "        print(num, \"is a prime number\")\n",
        "else:\n",
        "    print(num, \"is not a prime number\")"
      ],
      "metadata": {
        "colab": {
          "base_uri": "https://localhost:8080/"
        },
        "id": "Z-ceU-w2ya-P",
        "outputId": "0cc24a19-b104-46b7-96d8-d7069e01a244"
      },
      "execution_count": null,
      "outputs": [
        {
          "output_type": "stream",
          "name": "stdout",
          "text": [
            "Enter the number: 11\n",
            "11 is a prime number\n"
          ]
        }
      ]
    },
    {
      "cell_type": "markdown",
      "source": [
        "**Exercise 2: Product of Random Numbers**"
      ],
      "metadata": {
        "id": "ESreOAGp2E3U"
      }
    },
    {
      "cell_type": "code",
      "source": [
        "#Develop a Python program that generates two random numbers and asks the user to enter the product of these numbers.\n",
        "#provide function for the generates the random number\n",
        "import random"
      ],
      "metadata": {
        "id": "Yvkbpembzf-V"
      },
      "execution_count": null,
      "outputs": []
    },
    {
      "cell_type": "code",
      "source": [
        "#create the two variables that generate the random variable\n",
        "n1=random.randint(1,10)\n",
        "n2=random.randint(2,50)\n",
        "\n",
        "#take the input from the users\n",
        "user_ans=int(input(f\"What is the product of the {n1} and {n2}??\"))\n",
        "\n",
        "result=n1*n2\n",
        "\n",
        "#check if the user's answer is correct and display an appropriate message.\n",
        "if user_ans==result:\n",
        "  print(\"It is correct Well Done!\")\n",
        "else:\n",
        "  print(f\"It is wrong the right answer is{result}.\")"
      ],
      "metadata": {
        "id": "Ok7ltCHP25l7"
      },
      "execution_count": null,
      "outputs": []
    },
    {
      "cell_type": "markdown",
      "source": [
        "**Exercise 3: Squares of Even/Odd Numbers**\n"
      ],
      "metadata": {
        "id": "Dqg9xrGD2x5d"
      }
    },
    {
      "cell_type": "code",
      "source": [
        "#Create a Python script that prints the squares of all even or odd numbers within the range of 100 to 200.\n",
        "# Choose either even or odd numbers and document your choice in the code.\n",
        "\n",
        "#square of the even numbers\n",
        "for num in range(100,201):\n",
        "  if num% 2==0:\n",
        "    sqr=num**2\n",
        "    print(f\"The  even number---> {num}   and it's square is---> :\",sqr)"
      ],
      "metadata": {
        "id": "OF2l8dON4qxO",
        "colab": {
          "base_uri": "https://localhost:8080/"
        },
        "outputId": "ac1241d1-20da-4039-a642-b6ace094d33a"
      },
      "execution_count": null,
      "outputs": [
        {
          "output_type": "stream",
          "name": "stdout",
          "text": [
            "The  even number---> 100   and it's square is---> : 10000\n",
            "The  even number---> 102   and it's square is---> : 10404\n",
            "The  even number---> 104   and it's square is---> : 10816\n",
            "The  even number---> 106   and it's square is---> : 11236\n",
            "The  even number---> 108   and it's square is---> : 11664\n",
            "The  even number---> 110   and it's square is---> : 12100\n",
            "The  even number---> 112   and it's square is---> : 12544\n",
            "The  even number---> 114   and it's square is---> : 12996\n",
            "The  even number---> 116   and it's square is---> : 13456\n",
            "The  even number---> 118   and it's square is---> : 13924\n",
            "The  even number---> 120   and it's square is---> : 14400\n",
            "The  even number---> 122   and it's square is---> : 14884\n",
            "The  even number---> 124   and it's square is---> : 15376\n",
            "The  even number---> 126   and it's square is---> : 15876\n",
            "The  even number---> 128   and it's square is---> : 16384\n",
            "The  even number---> 130   and it's square is---> : 16900\n",
            "The  even number---> 132   and it's square is---> : 17424\n",
            "The  even number---> 134   and it's square is---> : 17956\n",
            "The  even number---> 136   and it's square is---> : 18496\n",
            "The  even number---> 138   and it's square is---> : 19044\n",
            "The  even number---> 140   and it's square is---> : 19600\n",
            "The  even number---> 142   and it's square is---> : 20164\n",
            "The  even number---> 144   and it's square is---> : 20736\n",
            "The  even number---> 146   and it's square is---> : 21316\n",
            "The  even number---> 148   and it's square is---> : 21904\n",
            "The  even number---> 150   and it's square is---> : 22500\n",
            "The  even number---> 152   and it's square is---> : 23104\n",
            "The  even number---> 154   and it's square is---> : 23716\n",
            "The  even number---> 156   and it's square is---> : 24336\n",
            "The  even number---> 158   and it's square is---> : 24964\n",
            "The  even number---> 160   and it's square is---> : 25600\n",
            "The  even number---> 162   and it's square is---> : 26244\n",
            "The  even number---> 164   and it's square is---> : 26896\n",
            "The  even number---> 166   and it's square is---> : 27556\n",
            "The  even number---> 168   and it's square is---> : 28224\n",
            "The  even number---> 170   and it's square is---> : 28900\n",
            "The  even number---> 172   and it's square is---> : 29584\n",
            "The  even number---> 174   and it's square is---> : 30276\n",
            "The  even number---> 176   and it's square is---> : 30976\n",
            "The  even number---> 178   and it's square is---> : 31684\n",
            "The  even number---> 180   and it's square is---> : 32400\n",
            "The  even number---> 182   and it's square is---> : 33124\n",
            "The  even number---> 184   and it's square is---> : 33856\n",
            "The  even number---> 186   and it's square is---> : 34596\n",
            "The  even number---> 188   and it's square is---> : 35344\n",
            "The  even number---> 190   and it's square is---> : 36100\n",
            "The  even number---> 192   and it's square is---> : 36864\n",
            "The  even number---> 194   and it's square is---> : 37636\n",
            "The  even number---> 196   and it's square is---> : 38416\n",
            "The  even number---> 198   and it's square is---> : 39204\n",
            "The  even number---> 200   and it's square is---> : 40000\n"
          ]
        }
      ]
    },
    {
      "cell_type": "code",
      "source": [
        "#square of the odd numbers\n",
        "for num in range(100,201):\n",
        "  if num % 2 !=0:\n",
        "    sqr=num**2\n",
        "    print(f\"The  odd number--> {num} and it's square is-->\",sqr)"
      ],
      "metadata": {
        "colab": {
          "base_uri": "https://localhost:8080/"
        },
        "id": "mjgeBx_w5VUe",
        "outputId": "d70f3e60-bc3f-4a45-d159-342f9aaedca3"
      },
      "execution_count": null,
      "outputs": [
        {
          "output_type": "stream",
          "name": "stdout",
          "text": [
            "The  odd number--> 101 and it's square is--> 10201\n",
            "The  odd number--> 103 and it's square is--> 10609\n",
            "The  odd number--> 105 and it's square is--> 11025\n",
            "The  odd number--> 107 and it's square is--> 11449\n",
            "The  odd number--> 109 and it's square is--> 11881\n",
            "The  odd number--> 111 and it's square is--> 12321\n",
            "The  odd number--> 113 and it's square is--> 12769\n",
            "The  odd number--> 115 and it's square is--> 13225\n",
            "The  odd number--> 117 and it's square is--> 13689\n",
            "The  odd number--> 119 and it's square is--> 14161\n",
            "The  odd number--> 121 and it's square is--> 14641\n",
            "The  odd number--> 123 and it's square is--> 15129\n",
            "The  odd number--> 125 and it's square is--> 15625\n",
            "The  odd number--> 127 and it's square is--> 16129\n",
            "The  odd number--> 129 and it's square is--> 16641\n",
            "The  odd number--> 131 and it's square is--> 17161\n",
            "The  odd number--> 133 and it's square is--> 17689\n",
            "The  odd number--> 135 and it's square is--> 18225\n",
            "The  odd number--> 137 and it's square is--> 18769\n",
            "The  odd number--> 139 and it's square is--> 19321\n",
            "The  odd number--> 141 and it's square is--> 19881\n",
            "The  odd number--> 143 and it's square is--> 20449\n",
            "The  odd number--> 145 and it's square is--> 21025\n",
            "The  odd number--> 147 and it's square is--> 21609\n",
            "The  odd number--> 149 and it's square is--> 22201\n",
            "The  odd number--> 151 and it's square is--> 22801\n",
            "The  odd number--> 153 and it's square is--> 23409\n",
            "The  odd number--> 155 and it's square is--> 24025\n",
            "The  odd number--> 157 and it's square is--> 24649\n",
            "The  odd number--> 159 and it's square is--> 25281\n",
            "The  odd number--> 161 and it's square is--> 25921\n",
            "The  odd number--> 163 and it's square is--> 26569\n",
            "The  odd number--> 165 and it's square is--> 27225\n",
            "The  odd number--> 167 and it's square is--> 27889\n",
            "The  odd number--> 169 and it's square is--> 28561\n",
            "The  odd number--> 171 and it's square is--> 29241\n",
            "The  odd number--> 173 and it's square is--> 29929\n",
            "The  odd number--> 175 and it's square is--> 30625\n",
            "The  odd number--> 177 and it's square is--> 31329\n",
            "The  odd number--> 179 and it's square is--> 32041\n",
            "The  odd number--> 181 and it's square is--> 32761\n",
            "The  odd number--> 183 and it's square is--> 33489\n",
            "The  odd number--> 185 and it's square is--> 34225\n",
            "The  odd number--> 187 and it's square is--> 34969\n",
            "The  odd number--> 189 and it's square is--> 35721\n",
            "The  odd number--> 191 and it's square is--> 36481\n",
            "The  odd number--> 193 and it's square is--> 37249\n",
            "The  odd number--> 195 and it's square is--> 38025\n",
            "The  odd number--> 197 and it's square is--> 38809\n",
            "The  odd number--> 199 and it's square is--> 39601\n"
          ]
        }
      ]
    },
    {
      "cell_type": "markdown",
      "source": [
        "**Exercise 4: Word counter**"
      ],
      "metadata": {
        "id": "b4qMxax9HgKP"
      }
    },
    {
      "cell_type": "code",
      "source": [
        "#write a program to count the number of words in a given text.\n",
        "from collections import Counter\n",
        "#input text\n",
        "input_text = \"This is a sample text. This text will be used to demonstrate the word counter.\"\n",
        "\n",
        "#split the given text into the words that it is separated by the comma\n",
        "words=input_text.split()   #separate the text\n",
        "\n",
        "#create an dictionary to store the words count\n",
        "word_count={}\n",
        "\n",
        "#use the for loop for the each letter in the word\n",
        "for  letter in words:\n",
        "\n",
        "    if letter in word_count:\n",
        "      word_count[letter]+=1    #if letter exists then increment by one\n",
        "    else:\n",
        "      word_count[letter]=1  # or letter is not exists then it is equal to 1 and added it\n",
        "\n",
        "for letter,count in word_count.items():   #items print the value in the key value pair\n",
        "      print(f\"'{letter}':{count}\")\n"
      ],
      "metadata": {
        "colab": {
          "base_uri": "https://localhost:8080/"
        },
        "id": "v1wP0FhB5mN5",
        "outputId": "2c16d981-f79d-4a08-c642-2b1d2394c4f8"
      },
      "execution_count": null,
      "outputs": [
        {
          "output_type": "stream",
          "name": "stdout",
          "text": [
            "'This':2\n",
            "'is':1\n",
            "'a':1\n",
            "'sample':1\n",
            "'text.':1\n",
            "'text':1\n",
            "'will':1\n",
            "'be':1\n",
            "'used':1\n",
            "'to':1\n",
            "'demonstrate':1\n",
            "'the':1\n",
            "'word':1\n",
            "'counter.':1\n"
          ]
        }
      ]
    },
    {
      "cell_type": "markdown",
      "source": [
        "**Exercise 5: Check for Palindrome**"
      ],
      "metadata": {
        "id": "dXNZ4CP1LpdI"
      }
    },
    {
      "cell_type": "code",
      "source": [
        "#Write a Python function called is_palindrome that takes a string as input and returns True if the string is a palindrome, and False otherwise.\n",
        "# A palindrome is a word, phrase, number, or other sequence of characters that reads the same forward and backward, ignoring spaces, punctuation, and capitalization.\n",
        "\n",
        "#   Palindrome===A string is said to be a palindrome if the reverse of the string is the same as the given input string\n",
        "\n",
        "#create the function to check the string is  palindrome or not\n",
        "#pass the input string\n",
        "#the main purpose of these function is to print true if the string is palindrome\n",
        "# else print the false if it is not palindrome\n",
        "def is_palindrome(s):\n",
        "\n",
        "#convert the passing string into lower case\n",
        "    s=s.lower()\n",
        "\n",
        "#remove the all non numeric character from the string that check the  character is letter or digits\n",
        "    s = ''.join(char for char in s if char.isalnum())\n",
        "\n",
        "#check the string is equal to its reverse and genarate the reverse of the string\n",
        "\n",
        "    return s ==s[::-1]\n",
        "\n",
        "#after removing the space punctuations marks and convert to the lower case it is same as given string then it is palindrome\n",
        "print(is_palindrome(\"A man, a plan, a canal: Panama\"))\n",
        "print(is_palindrome(\"RaceCar\"))\n",
        "print(is_palindrome(\"Hello, World!\"))\n",
        "print(is_palindrome(\"12321\"))\n",
        "print(is_palindrome(\"malayalam!!\"))\n",
        "print(is_palindrome(\"41314\"))"
      ],
      "metadata": {
        "colab": {
          "base_uri": "https://localhost:8080/"
        },
        "id": "BHKEDynXIASP",
        "outputId": "23b6fd1f-b6f6-4979-d5f9-84843b90474d"
      },
      "execution_count": null,
      "outputs": [
        {
          "output_type": "stream",
          "name": "stdout",
          "text": [
            "True\n",
            "True\n",
            "False\n",
            "True\n",
            "True\n",
            "True\n"
          ]
        }
      ]
    },
    {
      "cell_type": "code",
      "source": [
        "\n",
        "def isPalindrome(s):\n",
        "      s=s.lower()\n",
        "      s = ''.join(char for char in s if char.isalnum())\n",
        "      return s == s[::-1]\n",
        "\n",
        "\n",
        "result = isPalindrome(s)"
      ],
      "metadata": {
        "id": "KiaeFdb0QXOY"
      },
      "execution_count": null,
      "outputs": []
    },
    {
      "cell_type": "code",
      "source": [
        "is_palindrome(\"racecar\")"
      ],
      "metadata": {
        "colab": {
          "base_uri": "https://localhost:8080/"
        },
        "id": "wtYFXuCBRFU3",
        "outputId": "a1caaeca-47b3-4cd8-daae-fb22aaf684db"
      },
      "execution_count": null,
      "outputs": [
        {
          "output_type": "execute_result",
          "data": {
            "text/plain": [
              "True"
            ]
          },
          "metadata": {},
          "execution_count": 54
        }
      ]
    },
    {
      "cell_type": "code",
      "source": [
        "is_palindrome(\"DYPCET\")"
      ],
      "metadata": {
        "colab": {
          "base_uri": "https://localhost:8080/"
        },
        "id": "U5s6Wge7PBTm",
        "outputId": "60bc11c6-426d-4919-b90b-790b76b8a574"
      },
      "execution_count": null,
      "outputs": [
        {
          "output_type": "execute_result",
          "data": {
            "text/plain": [
              "False"
            ]
          },
          "metadata": {},
          "execution_count": 57
        }
      ]
    },
    {
      "cell_type": "code",
      "source": [
        "is_palindrome(\"A man, a plan, a canal: Panama\")"
      ],
      "metadata": {
        "colab": {
          "base_uri": "https://localhost:8080/"
        },
        "id": "UPWiieHkSJ5F",
        "outputId": "e050051f-b4ad-466e-ba4a-9bdd13ae4f08"
      },
      "execution_count": null,
      "outputs": [
        {
          "output_type": "execute_result",
          "data": {
            "text/plain": [
              "True"
            ]
          },
          "metadata": {},
          "execution_count": 56
        }
      ]
    },
    {
      "cell_type": "code",
      "source": [],
      "metadata": {
        "id": "9ScNY7NaSO5s"
      },
      "execution_count": null,
      "outputs": []
    }
  ]
}