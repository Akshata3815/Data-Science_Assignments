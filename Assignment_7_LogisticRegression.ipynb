{
  "cells": [
    {
      "cell_type": "markdown",
      "id": "27b141b3-f576-444f-8fa9-2c44edeb7c3a",
      "metadata": {
        "id": "27b141b3-f576-444f-8fa9-2c44edeb7c3a"
      },
      "source": [
        "1. Data Exploration:\n",
        "   \n",
        "a. Load the dataset and perform exploratory data analysis (EDA).\n"
      ]
    },
    {
      "cell_type": "code",
      "execution_count": null,
      "id": "7d788a44-22a8-4ed0-8fa5-269e40e5bee0",
      "metadata": {
        "id": "7d788a44-22a8-4ed0-8fa5-269e40e5bee0"
      },
      "outputs": [],
      "source": [
        "import pandas as pd\n",
        "import numpy as np\n",
        "import seaborn as sns\n",
        "import matplotlib.pyplot as plt\n",
        "from statsmodels.graphics.regressionplots import influence_plot\n",
        "import statsmodels.formula.api as smf #for getting r**2 values\n",
        "from sklearn.model_selection import train_test_split\n",
        "from sklearn.preprocessing import OneHotEncoder\n",
        "from sklearn.preprocessing import LabelEncoder\n",
        "from sklearn.linear_model import LogisticRegression\n",
        "from sklearn.metrics import accuracy_score, precision_score, recall_score, f1_score, roc_auc_score, roc_curve,confusion_matrix,classification_report\n",
        "import warnings\n",
        "warnings.filterwarnings('ignore')"
      ]
    },
    {
      "cell_type": "markdown",
      "id": "fc0f6f5c-3c9b-4034-ab00-4ff04b8437c3",
      "metadata": {
        "id": "fc0f6f5c-3c9b-4034-ab00-4ff04b8437c3"
      },
      "source": [
        "# Test Data"
      ]
    },
    {
      "cell_type": "code",
      "execution_count": null,
      "id": "7751c4f9-ff5b-4ce3-881a-cff44ee20f67",
      "metadata": {
        "id": "7751c4f9-ff5b-4ce3-881a-cff44ee20f67"
      },
      "outputs": [],
      "source": [
        "data_test=pd.read_csv(\"Titanic_test.csv\")"
      ]
    },
    {
      "cell_type": "code",
      "execution_count": null,
      "id": "c2bc43d3-128f-47a2-be35-78cd2d287697",
      "metadata": {
        "id": "c2bc43d3-128f-47a2-be35-78cd2d287697",
        "outputId": "c901afd6-5113-4431-ad3e-99129bca1f47"
      },
      "outputs": [
        {
          "data": {
            "text/html": [
              "<div>\n",
              "<style scoped>\n",
              "    .dataframe tbody tr th:only-of-type {\n",
              "        vertical-align: middle;\n",
              "    }\n",
              "\n",
              "    .dataframe tbody tr th {\n",
              "        vertical-align: top;\n",
              "    }\n",
              "\n",
              "    .dataframe thead th {\n",
              "        text-align: right;\n",
              "    }\n",
              "</style>\n",
              "<table border=\"1\" class=\"dataframe\">\n",
              "  <thead>\n",
              "    <tr style=\"text-align: right;\">\n",
              "      <th></th>\n",
              "      <th>PassengerId</th>\n",
              "      <th>Pclass</th>\n",
              "      <th>Name</th>\n",
              "      <th>Sex</th>\n",
              "      <th>Age</th>\n",
              "      <th>SibSp</th>\n",
              "      <th>Parch</th>\n",
              "      <th>Ticket</th>\n",
              "      <th>Fare</th>\n",
              "      <th>Cabin</th>\n",
              "      <th>Embarked</th>\n",
              "    </tr>\n",
              "  </thead>\n",
              "  <tbody>\n",
              "    <tr>\n",
              "      <th>0</th>\n",
              "      <td>892</td>\n",
              "      <td>3</td>\n",
              "      <td>Kelly, Mr. James</td>\n",
              "      <td>male</td>\n",
              "      <td>34.5</td>\n",
              "      <td>0</td>\n",
              "      <td>0</td>\n",
              "      <td>330911</td>\n",
              "      <td>7.8292</td>\n",
              "      <td>NaN</td>\n",
              "      <td>Q</td>\n",
              "    </tr>\n",
              "    <tr>\n",
              "      <th>1</th>\n",
              "      <td>893</td>\n",
              "      <td>3</td>\n",
              "      <td>Wilkes, Mrs. James (Ellen Needs)</td>\n",
              "      <td>female</td>\n",
              "      <td>47.0</td>\n",
              "      <td>1</td>\n",
              "      <td>0</td>\n",
              "      <td>363272</td>\n",
              "      <td>7.0000</td>\n",
              "      <td>NaN</td>\n",
              "      <td>S</td>\n",
              "    </tr>\n",
              "    <tr>\n",
              "      <th>2</th>\n",
              "      <td>894</td>\n",
              "      <td>2</td>\n",
              "      <td>Myles, Mr. Thomas Francis</td>\n",
              "      <td>male</td>\n",
              "      <td>62.0</td>\n",
              "      <td>0</td>\n",
              "      <td>0</td>\n",
              "      <td>240276</td>\n",
              "      <td>9.6875</td>\n",
              "      <td>NaN</td>\n",
              "      <td>Q</td>\n",
              "    </tr>\n",
              "    <tr>\n",
              "      <th>3</th>\n",
              "      <td>895</td>\n",
              "      <td>3</td>\n",
              "      <td>Wirz, Mr. Albert</td>\n",
              "      <td>male</td>\n",
              "      <td>27.0</td>\n",
              "      <td>0</td>\n",
              "      <td>0</td>\n",
              "      <td>315154</td>\n",
              "      <td>8.6625</td>\n",
              "      <td>NaN</td>\n",
              "      <td>S</td>\n",
              "    </tr>\n",
              "    <tr>\n",
              "      <th>4</th>\n",
              "      <td>896</td>\n",
              "      <td>3</td>\n",
              "      <td>Hirvonen, Mrs. Alexander (Helga E Lindqvist)</td>\n",
              "      <td>female</td>\n",
              "      <td>22.0</td>\n",
              "      <td>1</td>\n",
              "      <td>1</td>\n",
              "      <td>3101298</td>\n",
              "      <td>12.2875</td>\n",
              "      <td>NaN</td>\n",
              "      <td>S</td>\n",
              "    </tr>\n",
              "    <tr>\n",
              "      <th>...</th>\n",
              "      <td>...</td>\n",
              "      <td>...</td>\n",
              "      <td>...</td>\n",
              "      <td>...</td>\n",
              "      <td>...</td>\n",
              "      <td>...</td>\n",
              "      <td>...</td>\n",
              "      <td>...</td>\n",
              "      <td>...</td>\n",
              "      <td>...</td>\n",
              "      <td>...</td>\n",
              "    </tr>\n",
              "    <tr>\n",
              "      <th>413</th>\n",
              "      <td>1305</td>\n",
              "      <td>3</td>\n",
              "      <td>Spector, Mr. Woolf</td>\n",
              "      <td>male</td>\n",
              "      <td>NaN</td>\n",
              "      <td>0</td>\n",
              "      <td>0</td>\n",
              "      <td>A.5. 3236</td>\n",
              "      <td>8.0500</td>\n",
              "      <td>NaN</td>\n",
              "      <td>S</td>\n",
              "    </tr>\n",
              "    <tr>\n",
              "      <th>414</th>\n",
              "      <td>1306</td>\n",
              "      <td>1</td>\n",
              "      <td>Oliva y Ocana, Dona. Fermina</td>\n",
              "      <td>female</td>\n",
              "      <td>39.0</td>\n",
              "      <td>0</td>\n",
              "      <td>0</td>\n",
              "      <td>PC 17758</td>\n",
              "      <td>108.9000</td>\n",
              "      <td>C105</td>\n",
              "      <td>C</td>\n",
              "    </tr>\n",
              "    <tr>\n",
              "      <th>415</th>\n",
              "      <td>1307</td>\n",
              "      <td>3</td>\n",
              "      <td>Saether, Mr. Simon Sivertsen</td>\n",
              "      <td>male</td>\n",
              "      <td>38.5</td>\n",
              "      <td>0</td>\n",
              "      <td>0</td>\n",
              "      <td>SOTON/O.Q. 3101262</td>\n",
              "      <td>7.2500</td>\n",
              "      <td>NaN</td>\n",
              "      <td>S</td>\n",
              "    </tr>\n",
              "    <tr>\n",
              "      <th>416</th>\n",
              "      <td>1308</td>\n",
              "      <td>3</td>\n",
              "      <td>Ware, Mr. Frederick</td>\n",
              "      <td>male</td>\n",
              "      <td>NaN</td>\n",
              "      <td>0</td>\n",
              "      <td>0</td>\n",
              "      <td>359309</td>\n",
              "      <td>8.0500</td>\n",
              "      <td>NaN</td>\n",
              "      <td>S</td>\n",
              "    </tr>\n",
              "    <tr>\n",
              "      <th>417</th>\n",
              "      <td>1309</td>\n",
              "      <td>3</td>\n",
              "      <td>Peter, Master. Michael J</td>\n",
              "      <td>male</td>\n",
              "      <td>NaN</td>\n",
              "      <td>1</td>\n",
              "      <td>1</td>\n",
              "      <td>2668</td>\n",
              "      <td>22.3583</td>\n",
              "      <td>NaN</td>\n",
              "      <td>C</td>\n",
              "    </tr>\n",
              "  </tbody>\n",
              "</table>\n",
              "<p>418 rows × 11 columns</p>\n",
              "</div>"
            ],
            "text/plain": [
              "     PassengerId  Pclass                                          Name  \\\n",
              "0            892       3                              Kelly, Mr. James   \n",
              "1            893       3              Wilkes, Mrs. James (Ellen Needs)   \n",
              "2            894       2                     Myles, Mr. Thomas Francis   \n",
              "3            895       3                              Wirz, Mr. Albert   \n",
              "4            896       3  Hirvonen, Mrs. Alexander (Helga E Lindqvist)   \n",
              "..           ...     ...                                           ...   \n",
              "413         1305       3                            Spector, Mr. Woolf   \n",
              "414         1306       1                  Oliva y Ocana, Dona. Fermina   \n",
              "415         1307       3                  Saether, Mr. Simon Sivertsen   \n",
              "416         1308       3                           Ware, Mr. Frederick   \n",
              "417         1309       3                      Peter, Master. Michael J   \n",
              "\n",
              "        Sex   Age  SibSp  Parch              Ticket      Fare Cabin Embarked  \n",
              "0      male  34.5      0      0              330911    7.8292   NaN        Q  \n",
              "1    female  47.0      1      0              363272    7.0000   NaN        S  \n",
              "2      male  62.0      0      0              240276    9.6875   NaN        Q  \n",
              "3      male  27.0      0      0              315154    8.6625   NaN        S  \n",
              "4    female  22.0      1      1             3101298   12.2875   NaN        S  \n",
              "..      ...   ...    ...    ...                 ...       ...   ...      ...  \n",
              "413    male   NaN      0      0           A.5. 3236    8.0500   NaN        S  \n",
              "414  female  39.0      0      0            PC 17758  108.9000  C105        C  \n",
              "415    male  38.5      0      0  SOTON/O.Q. 3101262    7.2500   NaN        S  \n",
              "416    male   NaN      0      0              359309    8.0500   NaN        S  \n",
              "417    male   NaN      1      1                2668   22.3583   NaN        C  \n",
              "\n",
              "[418 rows x 11 columns]"
            ]
          },
          "execution_count": 92,
          "metadata": {},
          "output_type": "execute_result"
        }
      ],
      "source": [
        "data_test"
      ]
    },
    {
      "cell_type": "code",
      "execution_count": null,
      "id": "27abd363-c5cd-4681-b92c-831a1cdff5d9",
      "metadata": {
        "id": "27abd363-c5cd-4681-b92c-831a1cdff5d9",
        "outputId": "010b51d9-90b5-4f96-95f1-6f4413fe0412"
      },
      "outputs": [
        {
          "data": {
            "text/html": [
              "<div>\n",
              "<style scoped>\n",
              "    .dataframe tbody tr th:only-of-type {\n",
              "        vertical-align: middle;\n",
              "    }\n",
              "\n",
              "    .dataframe tbody tr th {\n",
              "        vertical-align: top;\n",
              "    }\n",
              "\n",
              "    .dataframe thead th {\n",
              "        text-align: right;\n",
              "    }\n",
              "</style>\n",
              "<table border=\"1\" class=\"dataframe\">\n",
              "  <thead>\n",
              "    <tr style=\"text-align: right;\">\n",
              "      <th></th>\n",
              "      <th>PassengerId</th>\n",
              "      <th>Pclass</th>\n",
              "      <th>Age</th>\n",
              "      <th>SibSp</th>\n",
              "      <th>Parch</th>\n",
              "      <th>Fare</th>\n",
              "    </tr>\n",
              "  </thead>\n",
              "  <tbody>\n",
              "    <tr>\n",
              "      <th>count</th>\n",
              "      <td>418.000000</td>\n",
              "      <td>418.000000</td>\n",
              "      <td>332.000000</td>\n",
              "      <td>418.000000</td>\n",
              "      <td>418.000000</td>\n",
              "      <td>417.000000</td>\n",
              "    </tr>\n",
              "    <tr>\n",
              "      <th>mean</th>\n",
              "      <td>1100.500000</td>\n",
              "      <td>2.265550</td>\n",
              "      <td>30.272590</td>\n",
              "      <td>0.447368</td>\n",
              "      <td>0.392344</td>\n",
              "      <td>35.627188</td>\n",
              "    </tr>\n",
              "    <tr>\n",
              "      <th>std</th>\n",
              "      <td>120.810458</td>\n",
              "      <td>0.841838</td>\n",
              "      <td>14.181209</td>\n",
              "      <td>0.896760</td>\n",
              "      <td>0.981429</td>\n",
              "      <td>55.907576</td>\n",
              "    </tr>\n",
              "    <tr>\n",
              "      <th>min</th>\n",
              "      <td>892.000000</td>\n",
              "      <td>1.000000</td>\n",
              "      <td>0.170000</td>\n",
              "      <td>0.000000</td>\n",
              "      <td>0.000000</td>\n",
              "      <td>0.000000</td>\n",
              "    </tr>\n",
              "    <tr>\n",
              "      <th>25%</th>\n",
              "      <td>996.250000</td>\n",
              "      <td>1.000000</td>\n",
              "      <td>21.000000</td>\n",
              "      <td>0.000000</td>\n",
              "      <td>0.000000</td>\n",
              "      <td>7.895800</td>\n",
              "    </tr>\n",
              "    <tr>\n",
              "      <th>50%</th>\n",
              "      <td>1100.500000</td>\n",
              "      <td>3.000000</td>\n",
              "      <td>27.000000</td>\n",
              "      <td>0.000000</td>\n",
              "      <td>0.000000</td>\n",
              "      <td>14.454200</td>\n",
              "    </tr>\n",
              "    <tr>\n",
              "      <th>75%</th>\n",
              "      <td>1204.750000</td>\n",
              "      <td>3.000000</td>\n",
              "      <td>39.000000</td>\n",
              "      <td>1.000000</td>\n",
              "      <td>0.000000</td>\n",
              "      <td>31.500000</td>\n",
              "    </tr>\n",
              "    <tr>\n",
              "      <th>max</th>\n",
              "      <td>1309.000000</td>\n",
              "      <td>3.000000</td>\n",
              "      <td>76.000000</td>\n",
              "      <td>8.000000</td>\n",
              "      <td>9.000000</td>\n",
              "      <td>512.329200</td>\n",
              "    </tr>\n",
              "  </tbody>\n",
              "</table>\n",
              "</div>"
            ],
            "text/plain": [
              "       PassengerId      Pclass         Age       SibSp       Parch        Fare\n",
              "count   418.000000  418.000000  332.000000  418.000000  418.000000  417.000000\n",
              "mean   1100.500000    2.265550   30.272590    0.447368    0.392344   35.627188\n",
              "std     120.810458    0.841838   14.181209    0.896760    0.981429   55.907576\n",
              "min     892.000000    1.000000    0.170000    0.000000    0.000000    0.000000\n",
              "25%     996.250000    1.000000   21.000000    0.000000    0.000000    7.895800\n",
              "50%    1100.500000    3.000000   27.000000    0.000000    0.000000   14.454200\n",
              "75%    1204.750000    3.000000   39.000000    1.000000    0.000000   31.500000\n",
              "max    1309.000000    3.000000   76.000000    8.000000    9.000000  512.329200"
            ]
          },
          "execution_count": 93,
          "metadata": {},
          "output_type": "execute_result"
        }
      ],
      "source": [
        "#describing the data\n",
        "data_test.describe()"
      ]
    },
    {
      "cell_type": "code",
      "execution_count": null,
      "id": "7e023930-28ff-409a-b35f-980d9e89b898",
      "metadata": {
        "id": "7e023930-28ff-409a-b35f-980d9e89b898",
        "outputId": "9be615db-91e7-4f4f-e7cf-76f0afd7171a"
      },
      "outputs": [
        {
          "name": "stdout",
          "output_type": "stream",
          "text": [
            "<class 'pandas.core.frame.DataFrame'>\n",
            "RangeIndex: 418 entries, 0 to 417\n",
            "Data columns (total 11 columns):\n",
            " #   Column       Non-Null Count  Dtype  \n",
            "---  ------       --------------  -----  \n",
            " 0   PassengerId  418 non-null    int64  \n",
            " 1   Pclass       418 non-null    int64  \n",
            " 2   Name         418 non-null    object \n",
            " 3   Sex          418 non-null    object \n",
            " 4   Age          332 non-null    float64\n",
            " 5   SibSp        418 non-null    int64  \n",
            " 6   Parch        418 non-null    int64  \n",
            " 7   Ticket       418 non-null    object \n",
            " 8   Fare         417 non-null    float64\n",
            " 9   Cabin        91 non-null     object \n",
            " 10  Embarked     418 non-null    object \n",
            "dtypes: float64(2), int64(4), object(5)\n",
            "memory usage: 36.1+ KB\n"
          ]
        }
      ],
      "source": [
        "data_test.info()"
      ]
    },
    {
      "cell_type": "code",
      "execution_count": null,
      "id": "76e859b6-0ed1-495a-990d-7a19129540ca",
      "metadata": {
        "id": "76e859b6-0ed1-495a-990d-7a19129540ca",
        "outputId": "c4d7513f-989d-4c60-c4b5-deb7ef54337e"
      },
      "outputs": [
        {
          "data": {
            "text/plain": [
              "PassengerId      int64\n",
              "Pclass           int64\n",
              "Name            object\n",
              "Sex             object\n",
              "Age            float64\n",
              "SibSp            int64\n",
              "Parch            int64\n",
              "Ticket          object\n",
              "Fare           float64\n",
              "Cabin           object\n",
              "Embarked        object\n",
              "dtype: object"
            ]
          },
          "execution_count": 95,
          "metadata": {},
          "output_type": "execute_result"
        }
      ],
      "source": [
        "#check the datatypes\n",
        "data_test.dtypes"
      ]
    },
    {
      "cell_type": "code",
      "execution_count": null,
      "id": "f78d18ed-7482-47a3-93ec-4e4c32698a9a",
      "metadata": {
        "id": "f78d18ed-7482-47a3-93ec-4e4c32698a9a",
        "outputId": "cfdfae34-40e7-4807-a8b0-277a8810c883"
      },
      "outputs": [
        {
          "data": {
            "text/plain": [
              "(418, 11)"
            ]
          },
          "execution_count": 96,
          "metadata": {},
          "output_type": "execute_result"
        }
      ],
      "source": [
        "data_test.shape    # 418 rows and 11 columns"
      ]
    },
    {
      "cell_type": "code",
      "execution_count": null,
      "id": "94e06c26-280b-4591-97cb-821f3635348c",
      "metadata": {
        "id": "94e06c26-280b-4591-97cb-821f3635348c",
        "outputId": "a17c225f-99cc-4927-b396-c9b8557f742a"
      },
      "outputs": [
        {
          "data": {
            "text/plain": [
              "0"
            ]
          },
          "execution_count": 101,
          "metadata": {},
          "output_type": "execute_result"
        }
      ],
      "source": [
        "#check the duplicate values\n",
        "data_test.duplicated().sum()"
      ]
    },
    {
      "cell_type": "code",
      "execution_count": null,
      "id": "f705c668-c0d0-4ba1-b8d2-089cddb1bc2c",
      "metadata": {
        "id": "f705c668-c0d0-4ba1-b8d2-089cddb1bc2c"
      },
      "outputs": [],
      "source": [
        "data_test.drop(columns='Cabin',inplace=True)"
      ]
    },
    {
      "cell_type": "markdown",
      "id": "10cd288f-5511-4391-aa0e-51b4ee2b1acb",
      "metadata": {
        "id": "10cd288f-5511-4391-aa0e-51b4ee2b1acb"
      },
      "source": [
        "# Data Preprocessing"
      ]
    },
    {
      "cell_type": "code",
      "execution_count": null,
      "id": "1b5893bd-388f-426f-a7b4-24b1c67b572d",
      "metadata": {
        "id": "1b5893bd-388f-426f-a7b4-24b1c67b572d",
        "outputId": "51f3bd2d-516e-4f8b-a7bf-b21776410d2b"
      },
      "outputs": [
        {
          "data": {
            "text/plain": [
              "PassengerId    0\n",
              "Pclass         0\n",
              "Name           0\n",
              "Sex            0\n",
              "Age            0\n",
              "SibSp          0\n",
              "Parch          0\n",
              "Ticket         0\n",
              "Fare           0\n",
              "Embarked       0\n",
              "dtype: int64"
            ]
          },
          "execution_count": 103,
          "metadata": {},
          "output_type": "execute_result"
        }
      ],
      "source": [
        "#Handling the missing values\n",
        "data_test.isnull().sum()"
      ]
    },
    {
      "cell_type": "code",
      "execution_count": null,
      "id": "1633930d-2e8e-453c-b2f3-f53392bf17a0",
      "metadata": {
        "id": "1633930d-2e8e-453c-b2f3-f53392bf17a0"
      },
      "outputs": [],
      "source": [
        "#fill the missing values wuth the median\n",
        "data_test['Age'] = data_test['Age'].fillna(data_test['Age'].median())\n",
        "data_test['Fare'] = data_test['Fare'].fillna(data_test['Fare'].median())\n"
      ]
    },
    {
      "cell_type": "code",
      "execution_count": null,
      "id": "756f18dd-fd49-4e22-97ee-72ec08bca889",
      "metadata": {
        "id": "756f18dd-fd49-4e22-97ee-72ec08bca889",
        "outputId": "2b0aac2d-5c53-4a85-abde-64df6e767e70"
      },
      "outputs": [
        {
          "data": {
            "text/plain": [
              "PassengerId    0\n",
              "Pclass         0\n",
              "Name           0\n",
              "Sex            0\n",
              "Age            0\n",
              "SibSp          0\n",
              "Parch          0\n",
              "Ticket         0\n",
              "Fare           0\n",
              "Embarked       0\n",
              "dtype: int64"
            ]
          },
          "execution_count": 105,
          "metadata": {},
          "output_type": "execute_result"
        }
      ],
      "source": [
        "#again check the null values\n",
        "data_test.isnull().sum()"
      ]
    },
    {
      "cell_type": "code",
      "execution_count": null,
      "id": "5a852489-c877-48fe-b26d-3883d045246a",
      "metadata": {
        "id": "5a852489-c877-48fe-b26d-3883d045246a"
      },
      "outputs": [],
      "source": [
        "#drop the columns that are not required for the Visualization\n",
        "data_test.drop(columns='PassengerId',inplace=True)\n",
        "data_test.drop(columns='Name',inplace=True)\n",
        "data_test.drop(columns='Ticket',inplace=True)\n"
      ]
    },
    {
      "cell_type": "markdown",
      "id": "7d77f99b-c4dd-40a7-84d9-87121442c389",
      "metadata": {
        "id": "7d77f99b-c4dd-40a7-84d9-87121442c389"
      },
      "source": [
        "# Visualization\n"
      ]
    },
    {
      "cell_type": "markdown",
      "id": "734aedc4-03a7-4904-9bb5-fccf676bbb11",
      "metadata": {
        "id": "734aedc4-03a7-4904-9bb5-fccf676bbb11"
      },
      "source": [
        "# Pairplot"
      ]
    },
    {
      "cell_type": "code",
      "execution_count": null,
      "id": "3c906d62-c15e-48cd-8a7c-1d8af0bc86b0",
      "metadata": {
        "id": "3c906d62-c15e-48cd-8a7c-1d8af0bc86b0",
        "outputId": "7bcbc39c-84f1-4dc4-d425-ff0e501468a2"
      },
      "outputs": [
        {
          "data": {
            "text/plain": [
              "<seaborn.axisgrid.PairGrid at 0x1fe272fef60>"
            ]
          },
          "execution_count": 108,
          "metadata": {},
          "output_type": "execute_result"
        },
        {
          "data": {
            "image/png": "[encoded data removed]",
            "text/plain": [
              "<Figure size 1250x1250 with 30 Axes>"
            ]
          },
          "metadata": {},
          "output_type": "display_data"
        }
      ],
      "source": [
        "sns.pairplot(data_test)"
      ]
    },
    {
      "cell_type": "markdown",
      "id": "7a8e7f58-2016-415d-b7d5-8d70e72b1bba",
      "metadata": {
        "id": "7a8e7f58-2016-415d-b7d5-8d70e72b1bba"
      },
      "source": [
        "# Histogram"
      ]
    },
    {
      "cell_type": "code",
      "execution_count": null,
      "id": "7a020873-075e-4e57-8256-4887a19c0b54",
      "metadata": {
        "id": "7a020873-075e-4e57-8256-4887a19c0b54",
        "outputId": "4ce53298-9899-4d00-deb6-48923b03f5ad"
      },
      "outputs": [
        {
          "data": {
            "text/plain": [
              "<Figure size 1500x500 with 0 Axes>"
            ]
          },
          "metadata": {},
          "output_type": "display_data"
        },
        {
          "data": {
            "image/png": "[encoded data removed]",
            "text/plain": [
              "<Figure size 640x480 with 6 Axes>"
            ]
          },
          "metadata": {},
          "output_type": "display_data"
        }
      ],
      "source": [
        "plt.figure(figsize=(15,5))\n",
        "data_test.hist()\n",
        "plt.tight_layout()"
      ]
    },
    {
      "cell_type": "markdown",
      "id": "dad227c3-fb04-4e0c-88d5-915a66b84c9e",
      "metadata": {
        "id": "dad227c3-fb04-4e0c-88d5-915a66b84c9e"
      },
      "source": [
        "# Boxplot"
      ]
    },
    {
      "cell_type": "code",
      "execution_count": null,
      "id": "519b499e-e769-44e2-a5ea-c1f955fb0b67",
      "metadata": {
        "id": "519b499e-e769-44e2-a5ea-c1f955fb0b67",
        "outputId": "ee4fb8e3-34be-453c-ffac-d7eec7252d21"
      },
      "outputs": [
        {
          "data": {
            "text/plain": [
              "<Axes: >"
            ]
          },
          "execution_count": 110,
          "metadata": {},
          "output_type": "execute_result"
        },
        {
          "data": {
            "image/png": "[encoded data removed]",
            "text/plain": [
              "<Figure size 640x480 with 1 Axes>"
            ]
          },
          "metadata": {},
          "output_type": "display_data"
        }
      ],
      "source": [
        "data_test.boxplot()"
      ]
    },
    {
      "cell_type": "code",
      "execution_count": null,
      "id": "d1a89334-b434-4357-b91e-cf5f6b3d0c74",
      "metadata": {
        "id": "d1a89334-b434-4357-b91e-cf5f6b3d0c74"
      },
      "outputs": [],
      "source": [
        "#detection of outliers\n",
        "def outlier_Detection(data_test,columns):\n",
        "    for col in columns:\n",
        "        Q1=data_test[col].quantile(0.25)\n",
        "        Q3=data_test[col].quantile(0.75)\n",
        "        IQR=Q3-Q1\n",
        "        Lower=Q1-1.5*IQR\n",
        "        Upper=Q3+1.5*IQR\n",
        "        data_test[col]=np.where(data_test[col]>Upper,Upper,np.where(data_test[col]<Lower,Lower,data_test[col]))\n",
        "    return data_test"
      ]
    },
    {
      "cell_type": "code",
      "execution_count": null,
      "id": "8ba765c2-b424-4ef3-a1df-a8f13f8e4f6c",
      "metadata": {
        "id": "8ba765c2-b424-4ef3-a1df-a8f13f8e4f6c",
        "outputId": "3ada9c89-078c-4487-dea3-9261b3560910"
      },
      "outputs": [
        {
          "data": {
            "text/html": [
              "<div>\n",
              "<style scoped>\n",
              "    .dataframe tbody tr th:only-of-type {\n",
              "        vertical-align: middle;\n",
              "    }\n",
              "\n",
              "    .dataframe tbody tr th {\n",
              "        vertical-align: top;\n",
              "    }\n",
              "\n",
              "    .dataframe thead th {\n",
              "        text-align: right;\n",
              "    }\n",
              "</style>\n",
              "<table border=\"1\" class=\"dataframe\">\n",
              "  <thead>\n",
              "    <tr style=\"text-align: right;\">\n",
              "      <th></th>\n",
              "      <th>Pclass</th>\n",
              "      <th>Sex</th>\n",
              "      <th>Age</th>\n",
              "      <th>SibSp</th>\n",
              "      <th>Parch</th>\n",
              "      <th>Fare</th>\n",
              "      <th>Embarked</th>\n",
              "    </tr>\n",
              "  </thead>\n",
              "  <tbody>\n",
              "    <tr>\n",
              "      <th>0</th>\n",
              "      <td>3</td>\n",
              "      <td>male</td>\n",
              "      <td>34.500</td>\n",
              "      <td>0.0</td>\n",
              "      <td>0.0</td>\n",
              "      <td>7.829200</td>\n",
              "      <td>Q</td>\n",
              "    </tr>\n",
              "    <tr>\n",
              "      <th>1</th>\n",
              "      <td>3</td>\n",
              "      <td>female</td>\n",
              "      <td>47.000</td>\n",
              "      <td>1.0</td>\n",
              "      <td>0.0</td>\n",
              "      <td>7.000000</td>\n",
              "      <td>S</td>\n",
              "    </tr>\n",
              "    <tr>\n",
              "      <th>2</th>\n",
              "      <td>2</td>\n",
              "      <td>male</td>\n",
              "      <td>54.875</td>\n",
              "      <td>0.0</td>\n",
              "      <td>0.0</td>\n",
              "      <td>9.687500</td>\n",
              "      <td>Q</td>\n",
              "    </tr>\n",
              "    <tr>\n",
              "      <th>3</th>\n",
              "      <td>3</td>\n",
              "      <td>male</td>\n",
              "      <td>27.000</td>\n",
              "      <td>0.0</td>\n",
              "      <td>0.0</td>\n",
              "      <td>8.662500</td>\n",
              "      <td>S</td>\n",
              "    </tr>\n",
              "    <tr>\n",
              "      <th>4</th>\n",
              "      <td>3</td>\n",
              "      <td>female</td>\n",
              "      <td>22.000</td>\n",
              "      <td>1.0</td>\n",
              "      <td>0.0</td>\n",
              "      <td>12.287500</td>\n",
              "      <td>S</td>\n",
              "    </tr>\n",
              "    <tr>\n",
              "      <th>...</th>\n",
              "      <td>...</td>\n",
              "      <td>...</td>\n",
              "      <td>...</td>\n",
              "      <td>...</td>\n",
              "      <td>...</td>\n",
              "      <td>...</td>\n",
              "      <td>...</td>\n",
              "    </tr>\n",
              "    <tr>\n",
              "      <th>413</th>\n",
              "      <td>3</td>\n",
              "      <td>male</td>\n",
              "      <td>27.000</td>\n",
              "      <td>0.0</td>\n",
              "      <td>0.0</td>\n",
              "      <td>8.050000</td>\n",
              "      <td>S</td>\n",
              "    </tr>\n",
              "    <tr>\n",
              "      <th>414</th>\n",
              "      <td>1</td>\n",
              "      <td>female</td>\n",
              "      <td>39.000</td>\n",
              "      <td>0.0</td>\n",
              "      <td>0.0</td>\n",
              "      <td>66.835988</td>\n",
              "      <td>C</td>\n",
              "    </tr>\n",
              "    <tr>\n",
              "      <th>415</th>\n",
              "      <td>3</td>\n",
              "      <td>male</td>\n",
              "      <td>38.500</td>\n",
              "      <td>0.0</td>\n",
              "      <td>0.0</td>\n",
              "      <td>7.250000</td>\n",
              "      <td>S</td>\n",
              "    </tr>\n",
              "    <tr>\n",
              "      <th>416</th>\n",
              "      <td>3</td>\n",
              "      <td>male</td>\n",
              "      <td>27.000</td>\n",
              "      <td>0.0</td>\n",
              "      <td>0.0</td>\n",
              "      <td>8.050000</td>\n",
              "      <td>S</td>\n",
              "    </tr>\n",
              "    <tr>\n",
              "      <th>417</th>\n",
              "      <td>3</td>\n",
              "      <td>male</td>\n",
              "      <td>27.000</td>\n",
              "      <td>1.0</td>\n",
              "      <td>0.0</td>\n",
              "      <td>22.358300</td>\n",
              "      <td>C</td>\n",
              "    </tr>\n",
              "  </tbody>\n",
              "</table>\n",
              "<p>418 rows × 7 columns</p>\n",
              "</div>"
            ],
            "text/plain": [
              "     Pclass     Sex     Age  SibSp  Parch       Fare Embarked\n",
              "0         3    male  34.500    0.0    0.0   7.829200        Q\n",
              "1         3  female  47.000    1.0    0.0   7.000000        S\n",
              "2         2    male  54.875    0.0    0.0   9.687500        Q\n",
              "3         3    male  27.000    0.0    0.0   8.662500        S\n",
              "4         3  female  22.000    1.0    0.0  12.287500        S\n",
              "..      ...     ...     ...    ...    ...        ...      ...\n",
              "413       3    male  27.000    0.0    0.0   8.050000        S\n",
              "414       1  female  39.000    0.0    0.0  66.835988        C\n",
              "415       3    male  38.500    0.0    0.0   7.250000        S\n",
              "416       3    male  27.000    0.0    0.0   8.050000        S\n",
              "417       3    male  27.000    1.0    0.0  22.358300        C\n",
              "\n",
              "[418 rows x 7 columns]"
            ]
          },
          "execution_count": 112,
          "metadata": {},
          "output_type": "execute_result"
        }
      ],
      "source": [
        "outlier_Detection(data_test,['Age','SibSp','Parch','Fare'])"
      ]
    },
    {
      "cell_type": "code",
      "execution_count": null,
      "id": "ea6855ca-6b13-4dc6-9a16-d2e045b1d3f3",
      "metadata": {
        "id": "ea6855ca-6b13-4dc6-9a16-d2e045b1d3f3",
        "outputId": "98dd81cd-2d86-44d9-cf6a-f2245bb39f50"
      },
      "outputs": [
        {
          "data": {
            "text/plain": [
              "<Axes: >"
            ]
          },
          "execution_count": 113,
          "metadata": {},
          "output_type": "execute_result"
        },
        {
          "data": {
            "image/png": "[encoded data removed]",
            "text/plain": [
              "<Figure size 640x480 with 1 Axes>"
            ]
          },
          "metadata": {},
          "output_type": "display_data"
        }
      ],
      "source": [
        "#now plot the boxplot\n",
        "data_test.boxplot()   # removing the all outliers"
      ]
    },
    {
      "cell_type": "code",
      "execution_count": null,
      "id": "83c8a6d1-37f5-4c28-80e2-add78a137c69",
      "metadata": {
        "id": "83c8a6d1-37f5-4c28-80e2-add78a137c69",
        "outputId": "ecd90d36-c73a-4084-84d1-843aea339968"
      },
      "outputs": [
        {
          "data": {
            "text/plain": [
              "Pclass        int64\n",
              "Sex          object\n",
              "Age         float64\n",
              "SibSp       float64\n",
              "Parch       float64\n",
              "Fare        float64\n",
              "Embarked     object\n",
              "dtype: object"
            ]
          },
          "execution_count": 114,
          "metadata": {},
          "output_type": "execute_result"
        }
      ],
      "source": [
        "#check the datatypes\n",
        "data_test.dtypes"
      ]
    },
    {
      "cell_type": "code",
      "execution_count": null,
      "id": "e52a27a1-96b4-4f59-a563-b90921924ae1",
      "metadata": {
        "id": "e52a27a1-96b4-4f59-a563-b90921924ae1"
      },
      "outputs": [],
      "source": [
        "#sex and the embarked column has the object datatype convert it into the int data type by using the get dummies method"
      ]
    },
    {
      "cell_type": "code",
      "execution_count": null,
      "id": "856e6098-efa1-4b12-ac41-fc0312060a26",
      "metadata": {
        "id": "856e6098-efa1-4b12-ac41-fc0312060a26"
      },
      "outputs": [],
      "source": [
        "data_test = pd.get_dummies(data=data_test, columns=['Sex','Embarked'],dtype = int)"
      ]
    },
    {
      "cell_type": "code",
      "execution_count": null,
      "id": "fce7cf84-a5b0-4b7f-ba56-4352fa84f5ae",
      "metadata": {
        "id": "fce7cf84-a5b0-4b7f-ba56-4352fa84f5ae",
        "outputId": "92149591-e01a-4f8a-ed73-fbb5d568ace0"
      },
      "outputs": [
        {
          "data": {
            "text/plain": [
              "Pclass          int64\n",
              "Age           float64\n",
              "SibSp         float64\n",
              "Parch         float64\n",
              "Fare          float64\n",
              "Sex_female      int32\n",
              "Sex_male        int32\n",
              "Embarked_C      int32\n",
              "Embarked_Q      int32\n",
              "Embarked_S      int32\n",
              "dtype: object"
            ]
          },
          "execution_count": 117,
          "metadata": {},
          "output_type": "execute_result"
        }
      ],
      "source": [
        "data_test.dtypes"
      ]
    },
    {
      "cell_type": "code",
      "execution_count": null,
      "id": "813a25e5-09da-4fe4-810c-adb6c808b8fb",
      "metadata": {
        "id": "813a25e5-09da-4fe4-810c-adb6c808b8fb",
        "outputId": "3cd61f70-5a8b-44c1-e515-8c436bbf3b9e"
      },
      "outputs": [
        {
          "data": {
            "text/html": [
              "<div>\n",
              "<style scoped>\n",
              "    .dataframe tbody tr th:only-of-type {\n",
              "        vertical-align: middle;\n",
              "    }\n",
              "\n",
              "    .dataframe tbody tr th {\n",
              "        vertical-align: top;\n",
              "    }\n",
              "\n",
              "    .dataframe thead th {\n",
              "        text-align: right;\n",
              "    }\n",
              "</style>\n",
              "<table border=\"1\" class=\"dataframe\">\n",
              "  <thead>\n",
              "    <tr style=\"text-align: right;\">\n",
              "      <th></th>\n",
              "      <th>Pclass</th>\n",
              "      <th>Age</th>\n",
              "      <th>SibSp</th>\n",
              "      <th>Fare</th>\n",
              "      <th>Sex_female</th>\n",
              "      <th>Sex_male</th>\n",
              "      <th>Embarked_C</th>\n",
              "      <th>Embarked_Q</th>\n",
              "      <th>Embarked_S</th>\n",
              "    </tr>\n",
              "  </thead>\n",
              "  <tbody>\n",
              "    <tr>\n",
              "      <th>Pclass</th>\n",
              "      <td>1.000000</td>\n",
              "      <td>-0.470951</td>\n",
              "      <td>-0.064610</td>\n",
              "      <td>-0.748755</td>\n",
              "      <td>-0.108615</td>\n",
              "      <td>0.108615</td>\n",
              "      <td>-0.318543</td>\n",
              "      <td>0.252608</td>\n",
              "      <td>0.120783</td>\n",
              "    </tr>\n",
              "    <tr>\n",
              "      <th>Age</th>\n",
              "      <td>-0.470951</td>\n",
              "      <td>1.000000</td>\n",
              "      <td>-0.043117</td>\n",
              "      <td>0.350319</td>\n",
              "      <td>0.002168</td>\n",
              "      <td>-0.002168</td>\n",
              "      <td>0.171541</td>\n",
              "      <td>-0.045909</td>\n",
              "      <td>-0.124021</td>\n",
              "    </tr>\n",
              "    <tr>\n",
              "      <th>SibSp</th>\n",
              "      <td>-0.064610</td>\n",
              "      <td>-0.043117</td>\n",
              "      <td>1.000000</td>\n",
              "      <td>0.331912</td>\n",
              "      <td>0.123638</td>\n",
              "      <td>-0.123638</td>\n",
              "      <td>0.022891</td>\n",
              "      <td>-0.128711</td>\n",
              "      <td>0.063669</td>\n",
              "    </tr>\n",
              "    <tr>\n",
              "      <th>Fare</th>\n",
              "      <td>-0.748755</td>\n",
              "      <td>0.350319</td>\n",
              "      <td>0.331912</td>\n",
              "      <td>1.000000</td>\n",
              "      <td>0.204543</td>\n",
              "      <td>-0.204543</td>\n",
              "      <td>0.319912</td>\n",
              "      <td>-0.235730</td>\n",
              "      <td>-0.133058</td>\n",
              "    </tr>\n",
              "    <tr>\n",
              "      <th>Sex_female</th>\n",
              "      <td>-0.108615</td>\n",
              "      <td>0.002168</td>\n",
              "      <td>0.123638</td>\n",
              "      <td>0.204543</td>\n",
              "      <td>1.000000</td>\n",
              "      <td>-1.000000</td>\n",
              "      <td>0.033684</td>\n",
              "      <td>0.115574</td>\n",
              "      <td>-0.105883</td>\n",
              "    </tr>\n",
              "    <tr>\n",
              "      <th>Sex_male</th>\n",
              "      <td>0.108615</td>\n",
              "      <td>-0.002168</td>\n",
              "      <td>-0.123638</td>\n",
              "      <td>-0.204543</td>\n",
              "      <td>-1.000000</td>\n",
              "      <td>1.000000</td>\n",
              "      <td>-0.033684</td>\n",
              "      <td>-0.115574</td>\n",
              "      <td>0.105883</td>\n",
              "    </tr>\n",
              "    <tr>\n",
              "      <th>Embarked_C</th>\n",
              "      <td>-0.318543</td>\n",
              "      <td>0.171541</td>\n",
              "      <td>0.022891</td>\n",
              "      <td>0.319912</td>\n",
              "      <td>0.033684</td>\n",
              "      <td>-0.033684</td>\n",
              "      <td>1.000000</td>\n",
              "      <td>-0.199786</td>\n",
              "      <td>-0.767375</td>\n",
              "    </tr>\n",
              "    <tr>\n",
              "      <th>Embarked_Q</th>\n",
              "      <td>0.252608</td>\n",
              "      <td>-0.045909</td>\n",
              "      <td>-0.128711</td>\n",
              "      <td>-0.235730</td>\n",
              "      <td>0.115574</td>\n",
              "      <td>-0.115574</td>\n",
              "      <td>-0.199786</td>\n",
              "      <td>1.000000</td>\n",
              "      <td>-0.474962</td>\n",
              "    </tr>\n",
              "    <tr>\n",
              "      <th>Embarked_S</th>\n",
              "      <td>0.120783</td>\n",
              "      <td>-0.124021</td>\n",
              "      <td>0.063669</td>\n",
              "      <td>-0.133058</td>\n",
              "      <td>-0.105883</td>\n",
              "      <td>0.105883</td>\n",
              "      <td>-0.767375</td>\n",
              "      <td>-0.474962</td>\n",
              "      <td>1.000000</td>\n",
              "    </tr>\n",
              "  </tbody>\n",
              "</table>\n",
              "</div>"
            ],
            "text/plain": [
              "              Pclass       Age     SibSp      Fare  Sex_female  Sex_male  \\\n",
              "Pclass      1.000000 -0.470951 -0.064610 -0.748755   -0.108615  0.108615   \n",
              "Age        -0.470951  1.000000 -0.043117  0.350319    0.002168 -0.002168   \n",
              "SibSp      -0.064610 -0.043117  1.000000  0.331912    0.123638 -0.123638   \n",
              "Fare       -0.748755  0.350319  0.331912  1.000000    0.204543 -0.204543   \n",
              "Sex_female -0.108615  0.002168  0.123638  0.204543    1.000000 -1.000000   \n",
              "Sex_male    0.108615 -0.002168 -0.123638 -0.204543   -1.000000  1.000000   \n",
              "Embarked_C -0.318543  0.171541  0.022891  0.319912    0.033684 -0.033684   \n",
              "Embarked_Q  0.252608 -0.045909 -0.128711 -0.235730    0.115574 -0.115574   \n",
              "Embarked_S  0.120783 -0.124021  0.063669 -0.133058   -0.105883  0.105883   \n",
              "\n",
              "            Embarked_C  Embarked_Q  Embarked_S  \n",
              "Pclass       -0.318543    0.252608    0.120783  \n",
              "Age           0.171541   -0.045909   -0.124021  \n",
              "SibSp         0.022891   -0.128711    0.063669  \n",
              "Fare          0.319912   -0.235730   -0.133058  \n",
              "Sex_female    0.033684    0.115574   -0.105883  \n",
              "Sex_male     -0.033684   -0.115574    0.105883  \n",
              "Embarked_C    1.000000   -0.199786   -0.767375  \n",
              "Embarked_Q   -0.199786    1.000000   -0.474962  \n",
              "Embarked_S   -0.767375   -0.474962    1.000000  "
            ]
          },
          "execution_count": 128,
          "metadata": {},
          "output_type": "execute_result"
        }
      ],
      "source": [
        "#find out the correlation between the variables\n",
        "correlation_matrix=data_test.corr()\n",
        "correlation_matrix"
      ]
    },
    {
      "cell_type": "markdown",
      "id": "2143eb24-5b31-430e-821c-281094d8fb9c",
      "metadata": {
        "id": "2143eb24-5b31-430e-821c-281094d8fb9c"
      },
      "source": [
        "# Heatmap"
      ]
    },
    {
      "cell_type": "code",
      "execution_count": null,
      "id": "ac65eff3-eef5-4272-b5b0-376dc7942882",
      "metadata": {
        "id": "ac65eff3-eef5-4272-b5b0-376dc7942882",
        "outputId": "c2fae41a-e00b-4f35-bab4-fce0b82e7b3b"
      },
      "outputs": [
        {
          "data": {
            "text/plain": [
              "<Axes: >"
            ]
          },
          "execution_count": 131,
          "metadata": {},
          "output_type": "execute_result"
        },
        {
          "data": {
            "image/png": "[encoded data removed]",
            "text/plain": [
              "<Figure size 640x480 with 2 Axes>"
            ]
          },
          "metadata": {},
          "output_type": "display_data"
        }
      ],
      "source": [
        "sns.heatmap(correlation_matrix,annot=True,cmap='coolwarm', linewidths=0.8)"
      ]
    },
    {
      "cell_type": "markdown",
      "id": "1ac72f25-fdfc-4e84-9e0e-597d9ab890a1",
      "metadata": {
        "id": "1ac72f25-fdfc-4e84-9e0e-597d9ab890a1"
      },
      "source": [
        "# Model building doest not work on test data because the Survived column does not appear in the data set\n",
        "#....then how can split data...so for the model building use the train data"
      ]
    },
    {
      "cell_type": "markdown",
      "id": "7fee8526-c0f6-45e9-ad35-2dd69e1b7c79",
      "metadata": {
        "id": "7fee8526-c0f6-45e9-ad35-2dd69e1b7c79"
      },
      "source": [
        "## Train Data"
      ]
    },
    {
      "cell_type": "markdown",
      "id": "e151ac8d-7ea5-455b-9392-a1f991f0dc2d",
      "metadata": {
        "id": "e151ac8d-7ea5-455b-9392-a1f991f0dc2d"
      },
      "source": [
        "# Train the model using the training data."
      ]
    },
    {
      "cell_type": "code",
      "execution_count": null,
      "id": "adddc27f-e504-479c-b19b-a35afd8007cf",
      "metadata": {
        "id": "adddc27f-e504-479c-b19b-a35afd8007cf"
      },
      "outputs": [],
      "source": [
        "#load the train data\n",
        "data_train=pd.read_csv(\"Titanic_train.csv\")"
      ]
    },
    {
      "cell_type": "code",
      "execution_count": null,
      "id": "31da88d1-079f-42ca-8f59-20af4f847531",
      "metadata": {
        "id": "31da88d1-079f-42ca-8f59-20af4f847531",
        "outputId": "3fe91bb3-8601-45c1-be2b-5ecfce8a4207"
      },
      "outputs": [
        {
          "data": {
            "text/html": [
              "<div>\n",
              "<style scoped>\n",
              "    .dataframe tbody tr th:only-of-type {\n",
              "        vertical-align: middle;\n",
              "    }\n",
              "\n",
              "    .dataframe tbody tr th {\n",
              "        vertical-align: top;\n",
              "    }\n",
              "\n",
              "    .dataframe thead th {\n",
              "        text-align: right;\n",
              "    }\n",
              "</style>\n",
              "<table border=\"1\" class=\"dataframe\">\n",
              "  <thead>\n",
              "    <tr style=\"text-align: right;\">\n",
              "      <th></th>\n",
              "      <th>PassengerId</th>\n",
              "      <th>Survived</th>\n",
              "      <th>Pclass</th>\n",
              "      <th>Name</th>\n",
              "      <th>Sex</th>\n",
              "      <th>Age</th>\n",
              "      <th>SibSp</th>\n",
              "      <th>Parch</th>\n",
              "      <th>Ticket</th>\n",
              "      <th>Fare</th>\n",
              "      <th>Cabin</th>\n",
              "      <th>Embarked</th>\n",
              "    </tr>\n",
              "  </thead>\n",
              "  <tbody>\n",
              "    <tr>\n",
              "      <th>0</th>\n",
              "      <td>1</td>\n",
              "      <td>0</td>\n",
              "      <td>3</td>\n",
              "      <td>Braund, Mr. Owen Harris</td>\n",
              "      <td>male</td>\n",
              "      <td>22.0</td>\n",
              "      <td>1</td>\n",
              "      <td>0</td>\n",
              "      <td>A/5 21171</td>\n",
              "      <td>7.2500</td>\n",
              "      <td>NaN</td>\n",
              "      <td>S</td>\n",
              "    </tr>\n",
              "    <tr>\n",
              "      <th>1</th>\n",
              "      <td>2</td>\n",
              "      <td>1</td>\n",
              "      <td>1</td>\n",
              "      <td>Cumings, Mrs. John Bradley (Florence Briggs Th...</td>\n",
              "      <td>female</td>\n",
              "      <td>38.0</td>\n",
              "      <td>1</td>\n",
              "      <td>0</td>\n",
              "      <td>PC 17599</td>\n",
              "      <td>71.2833</td>\n",
              "      <td>C85</td>\n",
              "      <td>C</td>\n",
              "    </tr>\n",
              "    <tr>\n",
              "      <th>2</th>\n",
              "      <td>3</td>\n",
              "      <td>1</td>\n",
              "      <td>3</td>\n",
              "      <td>Heikkinen, Miss. Laina</td>\n",
              "      <td>female</td>\n",
              "      <td>26.0</td>\n",
              "      <td>0</td>\n",
              "      <td>0</td>\n",
              "      <td>STON/O2. 3101282</td>\n",
              "      <td>7.9250</td>\n",
              "      <td>NaN</td>\n",
              "      <td>S</td>\n",
              "    </tr>\n",
              "    <tr>\n",
              "      <th>3</th>\n",
              "      <td>4</td>\n",
              "      <td>1</td>\n",
              "      <td>1</td>\n",
              "      <td>Futrelle, Mrs. Jacques Heath (Lily May Peel)</td>\n",
              "      <td>female</td>\n",
              "      <td>35.0</td>\n",
              "      <td>1</td>\n",
              "      <td>0</td>\n",
              "      <td>113803</td>\n",
              "      <td>53.1000</td>\n",
              "      <td>C123</td>\n",
              "      <td>S</td>\n",
              "    </tr>\n",
              "    <tr>\n",
              "      <th>4</th>\n",
              "      <td>5</td>\n",
              "      <td>0</td>\n",
              "      <td>3</td>\n",
              "      <td>Allen, Mr. William Henry</td>\n",
              "      <td>male</td>\n",
              "      <td>35.0</td>\n",
              "      <td>0</td>\n",
              "      <td>0</td>\n",
              "      <td>373450</td>\n",
              "      <td>8.0500</td>\n",
              "      <td>NaN</td>\n",
              "      <td>S</td>\n",
              "    </tr>\n",
              "    <tr>\n",
              "      <th>...</th>\n",
              "      <td>...</td>\n",
              "      <td>...</td>\n",
              "      <td>...</td>\n",
              "      <td>...</td>\n",
              "      <td>...</td>\n",
              "      <td>...</td>\n",
              "      <td>...</td>\n",
              "      <td>...</td>\n",
              "      <td>...</td>\n",
              "      <td>...</td>\n",
              "      <td>...</td>\n",
              "      <td>...</td>\n",
              "    </tr>\n",
              "    <tr>\n",
              "      <th>886</th>\n",
              "      <td>887</td>\n",
              "      <td>0</td>\n",
              "      <td>2</td>\n",
              "      <td>Montvila, Rev. Juozas</td>\n",
              "      <td>male</td>\n",
              "      <td>27.0</td>\n",
              "      <td>0</td>\n",
              "      <td>0</td>\n",
              "      <td>211536</td>\n",
              "      <td>13.0000</td>\n",
              "      <td>NaN</td>\n",
              "      <td>S</td>\n",
              "    </tr>\n",
              "    <tr>\n",
              "      <th>887</th>\n",
              "      <td>888</td>\n",
              "      <td>1</td>\n",
              "      <td>1</td>\n",
              "      <td>Graham, Miss. Margaret Edith</td>\n",
              "      <td>female</td>\n",
              "      <td>19.0</td>\n",
              "      <td>0</td>\n",
              "      <td>0</td>\n",
              "      <td>112053</td>\n",
              "      <td>30.0000</td>\n",
              "      <td>B42</td>\n",
              "      <td>S</td>\n",
              "    </tr>\n",
              "    <tr>\n",
              "      <th>888</th>\n",
              "      <td>889</td>\n",
              "      <td>0</td>\n",
              "      <td>3</td>\n",
              "      <td>Johnston, Miss. Catherine Helen \"Carrie\"</td>\n",
              "      <td>female</td>\n",
              "      <td>NaN</td>\n",
              "      <td>1</td>\n",
              "      <td>2</td>\n",
              "      <td>W./C. 6607</td>\n",
              "      <td>23.4500</td>\n",
              "      <td>NaN</td>\n",
              "      <td>S</td>\n",
              "    </tr>\n",
              "    <tr>\n",
              "      <th>889</th>\n",
              "      <td>890</td>\n",
              "      <td>1</td>\n",
              "      <td>1</td>\n",
              "      <td>Behr, Mr. Karl Howell</td>\n",
              "      <td>male</td>\n",
              "      <td>26.0</td>\n",
              "      <td>0</td>\n",
              "      <td>0</td>\n",
              "      <td>111369</td>\n",
              "      <td>30.0000</td>\n",
              "      <td>C148</td>\n",
              "      <td>C</td>\n",
              "    </tr>\n",
              "    <tr>\n",
              "      <th>890</th>\n",
              "      <td>891</td>\n",
              "      <td>0</td>\n",
              "      <td>3</td>\n",
              "      <td>Dooley, Mr. Patrick</td>\n",
              "      <td>male</td>\n",
              "      <td>32.0</td>\n",
              "      <td>0</td>\n",
              "      <td>0</td>\n",
              "      <td>370376</td>\n",
              "      <td>7.7500</td>\n",
              "      <td>NaN</td>\n",
              "      <td>Q</td>\n",
              "    </tr>\n",
              "  </tbody>\n",
              "</table>\n",
              "<p>891 rows × 12 columns</p>\n",
              "</div>"
            ],
            "text/plain": [
              "     PassengerId  Survived  Pclass  \\\n",
              "0              1         0       3   \n",
              "1              2         1       1   \n",
              "2              3         1       3   \n",
              "3              4         1       1   \n",
              "4              5         0       3   \n",
              "..           ...       ...     ...   \n",
              "886          887         0       2   \n",
              "887          888         1       1   \n",
              "888          889         0       3   \n",
              "889          890         1       1   \n",
              "890          891         0       3   \n",
              "\n",
              "                                                  Name     Sex   Age  SibSp  \\\n",
              "0                              Braund, Mr. Owen Harris    male  22.0      1   \n",
              "1    Cumings, Mrs. John Bradley (Florence Briggs Th...  female  38.0      1   \n",
              "2                               Heikkinen, Miss. Laina  female  26.0      0   \n",
              "3         Futrelle, Mrs. Jacques Heath (Lily May Peel)  female  35.0      1   \n",
              "4                             Allen, Mr. William Henry    male  35.0      0   \n",
              "..                                                 ...     ...   ...    ...   \n",
              "886                              Montvila, Rev. Juozas    male  27.0      0   \n",
              "887                       Graham, Miss. Margaret Edith  female  19.0      0   \n",
              "888           Johnston, Miss. Catherine Helen \"Carrie\"  female   NaN      1   \n",
              "889                              Behr, Mr. Karl Howell    male  26.0      0   \n",
              "890                                Dooley, Mr. Patrick    male  32.0      0   \n",
              "\n",
              "     Parch            Ticket     Fare Cabin Embarked  \n",
              "0        0         A/5 21171   7.2500   NaN        S  \n",
              "1        0          PC 17599  71.2833   C85        C  \n",
              "2        0  STON/O2. 3101282   7.9250   NaN        S  \n",
              "3        0            113803  53.1000  C123        S  \n",
              "4        0            373450   8.0500   NaN        S  \n",
              "..     ...               ...      ...   ...      ...  \n",
              "886      0            211536  13.0000   NaN        S  \n",
              "887      0            112053  30.0000   B42        S  \n",
              "888      2        W./C. 6607  23.4500   NaN        S  \n",
              "889      0            111369  30.0000  C148        C  \n",
              "890      0            370376   7.7500   NaN        Q  \n",
              "\n",
              "[891 rows x 12 columns]"
            ]
          },
          "execution_count": 434,
          "metadata": {},
          "output_type": "execute_result"
        }
      ],
      "source": [
        "data_train"
      ]
    },
    {
      "cell_type": "code",
      "execution_count": null,
      "id": "3e78ce53-af62-4c1f-bb8e-4edd14e598a0",
      "metadata": {
        "id": "3e78ce53-af62-4c1f-bb8e-4edd14e598a0",
        "outputId": "6598dc2b-db48-444f-980f-e9cd39d5ce5d"
      },
      "outputs": [
        {
          "data": {
            "text/html": [
              "<div>\n",
              "<style scoped>\n",
              "    .dataframe tbody tr th:only-of-type {\n",
              "        vertical-align: middle;\n",
              "    }\n",
              "\n",
              "    .dataframe tbody tr th {\n",
              "        vertical-align: top;\n",
              "    }\n",
              "\n",
              "    .dataframe thead th {\n",
              "        text-align: right;\n",
              "    }\n",
              "</style>\n",
              "<table border=\"1\" class=\"dataframe\">\n",
              "  <thead>\n",
              "    <tr style=\"text-align: right;\">\n",
              "      <th></th>\n",
              "      <th>PassengerId</th>\n",
              "      <th>Survived</th>\n",
              "      <th>Pclass</th>\n",
              "      <th>Name</th>\n",
              "      <th>Sex</th>\n",
              "      <th>Age</th>\n",
              "      <th>SibSp</th>\n",
              "      <th>Parch</th>\n",
              "      <th>Ticket</th>\n",
              "      <th>Fare</th>\n",
              "      <th>Cabin</th>\n",
              "      <th>Embarked</th>\n",
              "    </tr>\n",
              "  </thead>\n",
              "  <tbody>\n",
              "    <tr>\n",
              "      <th>0</th>\n",
              "      <td>1</td>\n",
              "      <td>0</td>\n",
              "      <td>3</td>\n",
              "      <td>Braund, Mr. Owen Harris</td>\n",
              "      <td>male</td>\n",
              "      <td>22.0</td>\n",
              "      <td>1</td>\n",
              "      <td>0</td>\n",
              "      <td>A/5 21171</td>\n",
              "      <td>7.2500</td>\n",
              "      <td>NaN</td>\n",
              "      <td>S</td>\n",
              "    </tr>\n",
              "    <tr>\n",
              "      <th>1</th>\n",
              "      <td>2</td>\n",
              "      <td>1</td>\n",
              "      <td>1</td>\n",
              "      <td>Cumings, Mrs. John Bradley (Florence Briggs Th...</td>\n",
              "      <td>female</td>\n",
              "      <td>38.0</td>\n",
              "      <td>1</td>\n",
              "      <td>0</td>\n",
              "      <td>PC 17599</td>\n",
              "      <td>71.2833</td>\n",
              "      <td>C85</td>\n",
              "      <td>C</td>\n",
              "    </tr>\n",
              "    <tr>\n",
              "      <th>2</th>\n",
              "      <td>3</td>\n",
              "      <td>1</td>\n",
              "      <td>3</td>\n",
              "      <td>Heikkinen, Miss. Laina</td>\n",
              "      <td>female</td>\n",
              "      <td>26.0</td>\n",
              "      <td>0</td>\n",
              "      <td>0</td>\n",
              "      <td>STON/O2. 3101282</td>\n",
              "      <td>7.9250</td>\n",
              "      <td>NaN</td>\n",
              "      <td>S</td>\n",
              "    </tr>\n",
              "    <tr>\n",
              "      <th>3</th>\n",
              "      <td>4</td>\n",
              "      <td>1</td>\n",
              "      <td>1</td>\n",
              "      <td>Futrelle, Mrs. Jacques Heath (Lily May Peel)</td>\n",
              "      <td>female</td>\n",
              "      <td>35.0</td>\n",
              "      <td>1</td>\n",
              "      <td>0</td>\n",
              "      <td>113803</td>\n",
              "      <td>53.1000</td>\n",
              "      <td>C123</td>\n",
              "      <td>S</td>\n",
              "    </tr>\n",
              "    <tr>\n",
              "      <th>4</th>\n",
              "      <td>5</td>\n",
              "      <td>0</td>\n",
              "      <td>3</td>\n",
              "      <td>Allen, Mr. William Henry</td>\n",
              "      <td>male</td>\n",
              "      <td>35.0</td>\n",
              "      <td>0</td>\n",
              "      <td>0</td>\n",
              "      <td>373450</td>\n",
              "      <td>8.0500</td>\n",
              "      <td>NaN</td>\n",
              "      <td>S</td>\n",
              "    </tr>\n",
              "  </tbody>\n",
              "</table>\n",
              "</div>"
            ],
            "text/plain": [
              "   PassengerId  Survived  Pclass  \\\n",
              "0            1         0       3   \n",
              "1            2         1       1   \n",
              "2            3         1       3   \n",
              "3            4         1       1   \n",
              "4            5         0       3   \n",
              "\n",
              "                                                Name     Sex   Age  SibSp  \\\n",
              "0                            Braund, Mr. Owen Harris    male  22.0      1   \n",
              "1  Cumings, Mrs. John Bradley (Florence Briggs Th...  female  38.0      1   \n",
              "2                             Heikkinen, Miss. Laina  female  26.0      0   \n",
              "3       Futrelle, Mrs. Jacques Heath (Lily May Peel)  female  35.0      1   \n",
              "4                           Allen, Mr. William Henry    male  35.0      0   \n",
              "\n",
              "   Parch            Ticket     Fare Cabin Embarked  \n",
              "0      0         A/5 21171   7.2500   NaN        S  \n",
              "1      0          PC 17599  71.2833   C85        C  \n",
              "2      0  STON/O2. 3101282   7.9250   NaN        S  \n",
              "3      0            113803  53.1000  C123        S  \n",
              "4      0            373450   8.0500   NaN        S  "
            ]
          },
          "execution_count": 435,
          "metadata": {},
          "output_type": "execute_result"
        }
      ],
      "source": [
        "data_train.head()"
      ]
    },
    {
      "cell_type": "code",
      "execution_count": null,
      "id": "40b954cf-6649-4023-a10d-89de2e8b340c",
      "metadata": {
        "id": "40b954cf-6649-4023-a10d-89de2e8b340c",
        "outputId": "169fd3c8-40f4-4668-a23e-a4daa9f8d3ec"
      },
      "outputs": [
        {
          "data": {
            "text/html": [
              "<div>\n",
              "<style scoped>\n",
              "    .dataframe tbody tr th:only-of-type {\n",
              "        vertical-align: middle;\n",
              "    }\n",
              "\n",
              "    .dataframe tbody tr th {\n",
              "        vertical-align: top;\n",
              "    }\n",
              "\n",
              "    .dataframe thead th {\n",
              "        text-align: right;\n",
              "    }\n",
              "</style>\n",
              "<table border=\"1\" class=\"dataframe\">\n",
              "  <thead>\n",
              "    <tr style=\"text-align: right;\">\n",
              "      <th></th>\n",
              "      <th>PassengerId</th>\n",
              "      <th>Survived</th>\n",
              "      <th>Pclass</th>\n",
              "      <th>Age</th>\n",
              "      <th>SibSp</th>\n",
              "      <th>Parch</th>\n",
              "      <th>Fare</th>\n",
              "    </tr>\n",
              "  </thead>\n",
              "  <tbody>\n",
              "    <tr>\n",
              "      <th>count</th>\n",
              "      <td>891.000000</td>\n",
              "      <td>891.000000</td>\n",
              "      <td>891.000000</td>\n",
              "      <td>714.000000</td>\n",
              "      <td>891.000000</td>\n",
              "      <td>891.000000</td>\n",
              "      <td>891.000000</td>\n",
              "    </tr>\n",
              "    <tr>\n",
              "      <th>mean</th>\n",
              "      <td>446.000000</td>\n",
              "      <td>0.383838</td>\n",
              "      <td>2.308642</td>\n",
              "      <td>29.699118</td>\n",
              "      <td>0.523008</td>\n",
              "      <td>0.381594</td>\n",
              "      <td>32.204208</td>\n",
              "    </tr>\n",
              "    <tr>\n",
              "      <th>std</th>\n",
              "      <td>257.353842</td>\n",
              "      <td>0.486592</td>\n",
              "      <td>0.836071</td>\n",
              "      <td>14.526497</td>\n",
              "      <td>1.102743</td>\n",
              "      <td>0.806057</td>\n",
              "      <td>49.693429</td>\n",
              "    </tr>\n",
              "    <tr>\n",
              "      <th>min</th>\n",
              "      <td>1.000000</td>\n",
              "      <td>0.000000</td>\n",
              "      <td>1.000000</td>\n",
              "      <td>0.420000</td>\n",
              "      <td>0.000000</td>\n",
              "      <td>0.000000</td>\n",
              "      <td>0.000000</td>\n",
              "    </tr>\n",
              "    <tr>\n",
              "      <th>25%</th>\n",
              "      <td>223.500000</td>\n",
              "      <td>0.000000</td>\n",
              "      <td>2.000000</td>\n",
              "      <td>20.125000</td>\n",
              "      <td>0.000000</td>\n",
              "      <td>0.000000</td>\n",
              "      <td>7.910400</td>\n",
              "    </tr>\n",
              "    <tr>\n",
              "      <th>50%</th>\n",
              "      <td>446.000000</td>\n",
              "      <td>0.000000</td>\n",
              "      <td>3.000000</td>\n",
              "      <td>28.000000</td>\n",
              "      <td>0.000000</td>\n",
              "      <td>0.000000</td>\n",
              "      <td>14.454200</td>\n",
              "    </tr>\n",
              "    <tr>\n",
              "      <th>75%</th>\n",
              "      <td>668.500000</td>\n",
              "      <td>1.000000</td>\n",
              "      <td>3.000000</td>\n",
              "      <td>38.000000</td>\n",
              "      <td>1.000000</td>\n",
              "      <td>0.000000</td>\n",
              "      <td>31.000000</td>\n",
              "    </tr>\n",
              "    <tr>\n",
              "      <th>max</th>\n",
              "      <td>891.000000</td>\n",
              "      <td>1.000000</td>\n",
              "      <td>3.000000</td>\n",
              "      <td>80.000000</td>\n",
              "      <td>8.000000</td>\n",
              "      <td>6.000000</td>\n",
              "      <td>512.329200</td>\n",
              "    </tr>\n",
              "  </tbody>\n",
              "</table>\n",
              "</div>"
            ],
            "text/plain": [
              "       PassengerId    Survived      Pclass         Age       SibSp  \\\n",
              "count   891.000000  891.000000  891.000000  714.000000  891.000000   \n",
              "mean    446.000000    0.383838    2.308642   29.699118    0.523008   \n",
              "std     257.353842    0.486592    0.836071   14.526497    1.102743   \n",
              "min       1.000000    0.000000    1.000000    0.420000    0.000000   \n",
              "25%     223.500000    0.000000    2.000000   20.125000    0.000000   \n",
              "50%     446.000000    0.000000    3.000000   28.000000    0.000000   \n",
              "75%     668.500000    1.000000    3.000000   38.000000    1.000000   \n",
              "max     891.000000    1.000000    3.000000   80.000000    8.000000   \n",
              "\n",
              "            Parch        Fare  \n",
              "count  891.000000  891.000000  \n",
              "mean     0.381594   32.204208  \n",
              "std      0.806057   49.693429  \n",
              "min      0.000000    0.000000  \n",
              "25%      0.000000    7.910400  \n",
              "50%      0.000000   14.454200  \n",
              "75%      0.000000   31.000000  \n",
              "max      6.000000  512.329200  "
            ]
          },
          "execution_count": 436,
          "metadata": {},
          "output_type": "execute_result"
        }
      ],
      "source": [
        "#describe the data\n",
        "data_train.describe()"
      ]
    },
    {
      "cell_type": "code",
      "execution_count": null,
      "id": "c96f56c9-8002-461a-a078-68511eb4431a",
      "metadata": {
        "id": "c96f56c9-8002-461a-a078-68511eb4431a",
        "outputId": "14bc0de9-b2ba-49d4-b47e-5f569ee28ebc"
      },
      "outputs": [
        {
          "name": "stdout",
          "output_type": "stream",
          "text": [
            "<class 'pandas.core.frame.DataFrame'>\n",
            "RangeIndex: 891 entries, 0 to 890\n",
            "Data columns (total 12 columns):\n",
            " #   Column       Non-Null Count  Dtype  \n",
            "---  ------       --------------  -----  \n",
            " 0   PassengerId  891 non-null    int64  \n",
            " 1   Survived     891 non-null    int64  \n",
            " 2   Pclass       891 non-null    int64  \n",
            " 3   Name         891 non-null    object \n",
            " 4   Sex          891 non-null    object \n",
            " 5   Age          714 non-null    float64\n",
            " 6   SibSp        891 non-null    int64  \n",
            " 7   Parch        891 non-null    int64  \n",
            " 8   Ticket       891 non-null    object \n",
            " 9   Fare         891 non-null    float64\n",
            " 10  Cabin        204 non-null    object \n",
            " 11  Embarked     889 non-null    object \n",
            "dtypes: float64(2), int64(5), object(5)\n",
            "memory usage: 83.7+ KB\n"
          ]
        }
      ],
      "source": [
        "data_train.info()"
      ]
    },
    {
      "cell_type": "code",
      "execution_count": null,
      "id": "bf9a8026-b4be-41a0-a725-d657d05801f7",
      "metadata": {
        "id": "bf9a8026-b4be-41a0-a725-d657d05801f7",
        "outputId": "00823bb5-4aee-4a62-efc5-2cf50d057f95"
      },
      "outputs": [
        {
          "data": {
            "text/plain": [
              "(891, 12)"
            ]
          },
          "execution_count": 438,
          "metadata": {},
          "output_type": "execute_result"
        }
      ],
      "source": [
        "data_train.shape    # 891 rows and 12 columns"
      ]
    },
    {
      "cell_type": "code",
      "execution_count": null,
      "id": "dcccdc41-8c9d-4efb-a361-074bcc2f22b1",
      "metadata": {
        "id": "dcccdc41-8c9d-4efb-a361-074bcc2f22b1",
        "outputId": "92fe51d9-7f90-4d53-9e85-be49076b354c"
      },
      "outputs": [
        {
          "data": {
            "text/plain": [
              "PassengerId      int64\n",
              "Survived         int64\n",
              "Pclass           int64\n",
              "Name            object\n",
              "Sex             object\n",
              "Age            float64\n",
              "SibSp            int64\n",
              "Parch            int64\n",
              "Ticket          object\n",
              "Fare           float64\n",
              "Cabin           object\n",
              "Embarked        object\n",
              "dtype: object"
            ]
          },
          "execution_count": 439,
          "metadata": {},
          "output_type": "execute_result"
        }
      ],
      "source": [
        "data_train.dtypes"
      ]
    },
    {
      "cell_type": "markdown",
      "id": "7c084fe4-bbf5-4e59-9ec9-b77aebc6ef6d",
      "metadata": {
        "id": "7c084fe4-bbf5-4e59-9ec9-b77aebc6ef6d"
      },
      "source": [
        "# Visualization"
      ]
    },
    {
      "cell_type": "code",
      "execution_count": null,
      "id": "69236b46-0222-4215-a5ff-c54dc40148df",
      "metadata": {
        "id": "69236b46-0222-4215-a5ff-c54dc40148df",
        "outputId": "e3f0f4e5-6f36-4fc2-9818-0bc1e49d4295"
      },
      "outputs": [
        {
          "data": {
            "text/plain": [
              "<Axes: >"
            ]
          },
          "execution_count": 440,
          "metadata": {},
          "output_type": "execute_result"
        },
        {
          "data": {
            "image/png": "[encoded data removed]",
            "text/plain": [
              "<Figure size 640x480 with 1 Axes>"
            ]
          },
          "metadata": {},
          "output_type": "display_data"
        }
      ],
      "source": [
        "data_train.boxplot()"
      ]
    },
    {
      "cell_type": "code",
      "execution_count": null,
      "id": "c81bd8ee-ab84-4f42-86e7-5a8eb59c6207",
      "metadata": {
        "id": "c81bd8ee-ab84-4f42-86e7-5a8eb59c6207",
        "outputId": "2e299af1-5878-4bd7-a7e8-ef8ae06d6c83"
      },
      "outputs": [
        {
          "data": {
            "text/plain": [
              "<Figure size 1500x500 with 0 Axes>"
            ]
          },
          "metadata": {},
          "output_type": "display_data"
        },
        {
          "data": {
            "image/png": "[encoded data removed]",
            "text/plain": [
              "<Figure size 640x480 with 9 Axes>"
            ]
          },
          "metadata": {},
          "output_type": "display_data"
        }
      ],
      "source": [
        "plt.figure(figsize=(15,5))\n",
        "data_train.hist()\n",
        "plt.tight_layout()"
      ]
    },
    {
      "cell_type": "markdown",
      "id": "32a0db4d-a615-4485-b3c9-de19e0466d32",
      "metadata": {
        "id": "32a0db4d-a615-4485-b3c9-de19e0466d32"
      },
      "source": [
        "# Data Preprocessing"
      ]
    },
    {
      "cell_type": "code",
      "execution_count": null,
      "id": "c7a68744-6093-4742-8b60-60768e3c9ac9",
      "metadata": {
        "id": "c7a68744-6093-4742-8b60-60768e3c9ac9",
        "outputId": "8569f9b9-aae4-4de7-f028-253dedc8bb93"
      },
      "outputs": [
        {
          "data": {
            "text/plain": [
              "(183, 12)"
            ]
          },
          "execution_count": 444,
          "metadata": {},
          "output_type": "execute_result"
        }
      ],
      "source": [
        "data_train= data_train.dropna()\n",
        "data_train.shape"
      ]
    },
    {
      "cell_type": "code",
      "execution_count": null,
      "id": "82c00c5f-b4b4-469c-afa4-1a104a9ef1a0",
      "metadata": {
        "id": "82c00c5f-b4b4-469c-afa4-1a104a9ef1a0",
        "outputId": "f353438e-71ee-4717-aba7-02b9df78e45e"
      },
      "outputs": [
        {
          "data": {
            "text/plain": [
              "PassengerId    0\n",
              "Survived       0\n",
              "Pclass         0\n",
              "Name           0\n",
              "Sex            0\n",
              "Age            0\n",
              "SibSp          0\n",
              "Parch          0\n",
              "Ticket         0\n",
              "Fare           0\n",
              "Cabin          0\n",
              "Embarked       0\n",
              "dtype: int64"
            ]
          },
          "execution_count": 445,
          "metadata": {},
          "output_type": "execute_result"
        }
      ],
      "source": [
        "data_train.isnull().sum()"
      ]
    },
    {
      "cell_type": "code",
      "execution_count": null,
      "id": "651f511e-a859-4ae1-ab60-d322a3286ec7",
      "metadata": {
        "id": "651f511e-a859-4ae1-ab60-d322a3286ec7"
      },
      "outputs": [],
      "source": [
        "data = data_train.copy()\n",
        "data_train['Age'].fillna(data_train['Age'].median(), inplace=True)"
      ]
    },
    {
      "cell_type": "code",
      "execution_count": null,
      "id": "ab4ab40f-41e1-4d47-97c1-e6ee1d262783",
      "metadata": {
        "id": "ab4ab40f-41e1-4d47-97c1-e6ee1d262783"
      },
      "outputs": [],
      "source": [
        "data_train['Age'].fillna(data_train['Age'].median(),inplace=True)\n",
        "data_train['Embarked'].fillna(data_train['Embarked'].mode()[0], inplace=True)\n",
        "data_train['Fare'].fillna(data_train['Fare'].median(), inplace=True)"
      ]
    },
    {
      "cell_type": "code",
      "execution_count": null,
      "id": "e11be7d8-65c3-42c6-87ec-d75e8edd3b2b",
      "metadata": {
        "id": "e11be7d8-65c3-42c6-87ec-d75e8edd3b2b",
        "outputId": "f8a4e411-fed2-4a94-cbaf-24b14e6ad2af"
      },
      "outputs": [
        {
          "data": {
            "text/plain": [
              "Index(['Name', 'Sex', 'Ticket', 'Cabin', 'Embarked'], dtype='object')"
            ]
          },
          "execution_count": 448,
          "metadata": {},
          "output_type": "execute_result"
        }
      ],
      "source": [
        "categorical_columns = data_train.select_dtypes(include=['object']).columns\n",
        "categorical_columns"
      ]
    },
    {
      "cell_type": "code",
      "execution_count": null,
      "id": "728458d0-7f6a-403d-8d02-8eeb8782c365",
      "metadata": {
        "id": "728458d0-7f6a-403d-8d02-8eeb8782c365"
      },
      "outputs": [],
      "source": [
        "# Encode categorical variables\n",
        "label_encoders = {}\n",
        "categorical_features = ['Sex', 'Embarked']\n",
        "\n",
        "for feature in categorical_features:\n",
        "    le = LabelEncoder()\n",
        "    data_train[feature] = le.fit_transform(data_train[feature])\n",
        "    label_encoders[feature] = le"
      ]
    },
    {
      "cell_type": "code",
      "execution_count": null,
      "id": "8addb7fa-4ca2-4482-8507-60cb3e8cc86d",
      "metadata": {
        "id": "8addb7fa-4ca2-4482-8507-60cb3e8cc86d"
      },
      "outputs": [],
      "source": [
        "# Drop unnecessary columns\n",
        "data_train.drop(columns=['Name', 'Ticket', 'Cabin'], inplace=True)"
      ]
    },
    {
      "cell_type": "markdown",
      "id": "6bb6531d-a89c-4c72-9397-ad71e8cd9a41",
      "metadata": {
        "id": "6bb6531d-a89c-4c72-9397-ad71e8cd9a41"
      },
      "source": [
        "# Model building"
      ]
    },
    {
      "cell_type": "code",
      "execution_count": null,
      "id": "0ebe043c-0dd1-45df-8c6a-e90a47bd77c6",
      "metadata": {
        "id": "0ebe043c-0dd1-45df-8c6a-e90a47bd77c6"
      },
      "outputs": [],
      "source": [
        "x = data_train.drop(columns=['Survived','PassengerId'])\n",
        "y = data_train['Survived']"
      ]
    },
    {
      "cell_type": "code",
      "execution_count": null,
      "id": "0742f802-f7e8-45b8-86ba-6b881d5675a8",
      "metadata": {
        "id": "0742f802-f7e8-45b8-86ba-6b881d5675a8",
        "outputId": "76f32306-7f82-423d-b267-a3956d0dca60"
      },
      "outputs": [
        {
          "data": {
            "text/html": [
              "<div>\n",
              "<style scoped>\n",
              "    .dataframe tbody tr th:only-of-type {\n",
              "        vertical-align: middle;\n",
              "    }\n",
              "\n",
              "    .dataframe tbody tr th {\n",
              "        vertical-align: top;\n",
              "    }\n",
              "\n",
              "    .dataframe thead th {\n",
              "        text-align: right;\n",
              "    }\n",
              "</style>\n",
              "<table border=\"1\" class=\"dataframe\">\n",
              "  <thead>\n",
              "    <tr style=\"text-align: right;\">\n",
              "      <th></th>\n",
              "      <th>Pclass</th>\n",
              "      <th>Sex</th>\n",
              "      <th>Age</th>\n",
              "      <th>SibSp</th>\n",
              "      <th>Parch</th>\n",
              "      <th>Fare</th>\n",
              "      <th>Embarked</th>\n",
              "    </tr>\n",
              "  </thead>\n",
              "  <tbody>\n",
              "    <tr>\n",
              "      <th>1</th>\n",
              "      <td>1</td>\n",
              "      <td>0</td>\n",
              "      <td>38.0</td>\n",
              "      <td>1</td>\n",
              "      <td>0</td>\n",
              "      <td>71.2833</td>\n",
              "      <td>0</td>\n",
              "    </tr>\n",
              "    <tr>\n",
              "      <th>3</th>\n",
              "      <td>1</td>\n",
              "      <td>0</td>\n",
              "      <td>35.0</td>\n",
              "      <td>1</td>\n",
              "      <td>0</td>\n",
              "      <td>53.1000</td>\n",
              "      <td>2</td>\n",
              "    </tr>\n",
              "    <tr>\n",
              "      <th>6</th>\n",
              "      <td>1</td>\n",
              "      <td>1</td>\n",
              "      <td>54.0</td>\n",
              "      <td>0</td>\n",
              "      <td>0</td>\n",
              "      <td>51.8625</td>\n",
              "      <td>2</td>\n",
              "    </tr>\n",
              "    <tr>\n",
              "      <th>10</th>\n",
              "      <td>3</td>\n",
              "      <td>0</td>\n",
              "      <td>4.0</td>\n",
              "      <td>1</td>\n",
              "      <td>1</td>\n",
              "      <td>16.7000</td>\n",
              "      <td>2</td>\n",
              "    </tr>\n",
              "    <tr>\n",
              "      <th>11</th>\n",
              "      <td>1</td>\n",
              "      <td>0</td>\n",
              "      <td>58.0</td>\n",
              "      <td>0</td>\n",
              "      <td>0</td>\n",
              "      <td>26.5500</td>\n",
              "      <td>2</td>\n",
              "    </tr>\n",
              "    <tr>\n",
              "      <th>...</th>\n",
              "      <td>...</td>\n",
              "      <td>...</td>\n",
              "      <td>...</td>\n",
              "      <td>...</td>\n",
              "      <td>...</td>\n",
              "      <td>...</td>\n",
              "      <td>...</td>\n",
              "    </tr>\n",
              "    <tr>\n",
              "      <th>871</th>\n",
              "      <td>1</td>\n",
              "      <td>0</td>\n",
              "      <td>47.0</td>\n",
              "      <td>1</td>\n",
              "      <td>1</td>\n",
              "      <td>52.5542</td>\n",
              "      <td>2</td>\n",
              "    </tr>\n",
              "    <tr>\n",
              "      <th>872</th>\n",
              "      <td>1</td>\n",
              "      <td>1</td>\n",
              "      <td>33.0</td>\n",
              "      <td>0</td>\n",
              "      <td>0</td>\n",
              "      <td>5.0000</td>\n",
              "      <td>2</td>\n",
              "    </tr>\n",
              "    <tr>\n",
              "      <th>879</th>\n",
              "      <td>1</td>\n",
              "      <td>0</td>\n",
              "      <td>56.0</td>\n",
              "      <td>0</td>\n",
              "      <td>1</td>\n",
              "      <td>83.1583</td>\n",
              "      <td>0</td>\n",
              "    </tr>\n",
              "    <tr>\n",
              "      <th>887</th>\n",
              "      <td>1</td>\n",
              "      <td>0</td>\n",
              "      <td>19.0</td>\n",
              "      <td>0</td>\n",
              "      <td>0</td>\n",
              "      <td>30.0000</td>\n",
              "      <td>2</td>\n",
              "    </tr>\n",
              "    <tr>\n",
              "      <th>889</th>\n",
              "      <td>1</td>\n",
              "      <td>1</td>\n",
              "      <td>26.0</td>\n",
              "      <td>0</td>\n",
              "      <td>0</td>\n",
              "      <td>30.0000</td>\n",
              "      <td>0</td>\n",
              "    </tr>\n",
              "  </tbody>\n",
              "</table>\n",
              "<p>183 rows × 7 columns</p>\n",
              "</div>"
            ],
            "text/plain": [
              "     Pclass  Sex   Age  SibSp  Parch     Fare  Embarked\n",
              "1         1    0  38.0      1      0  71.2833         0\n",
              "3         1    0  35.0      1      0  53.1000         2\n",
              "6         1    1  54.0      0      0  51.8625         2\n",
              "10        3    0   4.0      1      1  16.7000         2\n",
              "11        1    0  58.0      0      0  26.5500         2\n",
              "..      ...  ...   ...    ...    ...      ...       ...\n",
              "871       1    0  47.0      1      1  52.5542         2\n",
              "872       1    1  33.0      0      0   5.0000         2\n",
              "879       1    0  56.0      0      1  83.1583         0\n",
              "887       1    0  19.0      0      0  30.0000         2\n",
              "889       1    1  26.0      0      0  30.0000         0\n",
              "\n",
              "[183 rows x 7 columns]"
            ]
          },
          "execution_count": 452,
          "metadata": {},
          "output_type": "execute_result"
        }
      ],
      "source": [
        "x"
      ]
    },
    {
      "cell_type": "code",
      "execution_count": null,
      "id": "602bb062-132f-4c71-a4c5-7d4e4c3c3a9c",
      "metadata": {
        "id": "602bb062-132f-4c71-a4c5-7d4e4c3c3a9c",
        "outputId": "3daa6970-88ec-4819-a03f-1f12aee62869"
      },
      "outputs": [
        {
          "data": {
            "text/plain": [
              "(183, 7)"
            ]
          },
          "execution_count": 453,
          "metadata": {},
          "output_type": "execute_result"
        }
      ],
      "source": [
        "x.shape"
      ]
    },
    {
      "cell_type": "code",
      "execution_count": null,
      "id": "a8b8933c-0d6a-43cd-a55c-78f1e9bc6410",
      "metadata": {
        "id": "a8b8933c-0d6a-43cd-a55c-78f1e9bc6410",
        "outputId": "a37b294e-dd0b-4d8b-e245-03cbdfe1fae5"
      },
      "outputs": [
        {
          "data": {
            "text/plain": [
              "1      1\n",
              "3      1\n",
              "6      0\n",
              "10     1\n",
              "11     1\n",
              "      ..\n",
              "871    1\n",
              "872    0\n",
              "879    1\n",
              "887    1\n",
              "889    1\n",
              "Name: Survived, Length: 183, dtype: int64"
            ]
          },
          "execution_count": 454,
          "metadata": {},
          "output_type": "execute_result"
        }
      ],
      "source": [
        "y"
      ]
    },
    {
      "cell_type": "code",
      "execution_count": null,
      "id": "e16d3aa1-8337-4c82-880a-13d70fcb62a2",
      "metadata": {
        "id": "e16d3aa1-8337-4c82-880a-13d70fcb62a2",
        "outputId": "8638aaec-b1e9-41b3-f2ae-621f1df77127"
      },
      "outputs": [
        {
          "data": {
            "text/plain": [
              "(183,)"
            ]
          },
          "execution_count": 455,
          "metadata": {},
          "output_type": "execute_result"
        }
      ],
      "source": [
        "y.shape"
      ]
    },
    {
      "cell_type": "code",
      "execution_count": null,
      "id": "b699bf84-c1bb-457f-8592-b8cba5fe08c9",
      "metadata": {
        "id": "b699bf84-c1bb-457f-8592-b8cba5fe08c9"
      },
      "outputs": [],
      "source": [
        "# Split the dataset into training and testing sets\n",
        "#20% data for the testing and the 80% data for the training\n",
        "x_train,x_test,y_train,y_test= train_test_split(x,y, test_size=0.2, random_state=40)\n"
      ]
    },
    {
      "cell_type": "code",
      "execution_count": null,
      "id": "414f13a3-9f62-4e2e-9e0a-583a1f81a68d",
      "metadata": {
        "id": "414f13a3-9f62-4e2e-9e0a-583a1f81a68d",
        "outputId": "b6b11d2d-d68d-4ee9-bad8-cba77ce0db98"
      },
      "outputs": [
        {
          "data": {
            "text/plain": [
              "(     Pclass  Sex   Age  SibSp  Parch      Fare  Embarked\n",
              " 659       1    1  58.0      0      2  113.2750         0\n",
              " 331       1    1  45.5      0      0   28.5000         2\n",
              " 742       1    0  21.0      2      2  262.3750         0\n",
              " 715       3    1  19.0      0      0    7.6500         2\n",
              " 339       1    1  45.0      0      0   35.5000         2\n",
              " ..      ...  ...   ...    ...    ...       ...       ...\n",
              " 75        3    1  25.0      0      0    7.6500         2\n",
              " 275       1    0  63.0      1      0   77.9583         2\n",
              " 782       1    1  29.0      0      0   30.0000         2\n",
              " 27        1    1  19.0      3      2  263.0000         2\n",
              " 340       2    1   2.0      1      1   26.0000         2\n",
              " \n",
              " [146 rows x 7 columns],\n",
              "      Pclass  Sex   Age  SibSp  Parch      Fare  Embarked\n",
              " 659       1    1  58.0      0      2  113.2750         0\n",
              " 331       1    1  45.5      0      0   28.5000         2\n",
              " 742       1    0  21.0      2      2  262.3750         0\n",
              " 715       3    1  19.0      0      0    7.6500         2\n",
              " 339       1    1  45.0      0      0   35.5000         2\n",
              " ..      ...  ...   ...    ...    ...       ...       ...\n",
              " 75        3    1  25.0      0      0    7.6500         2\n",
              " 275       1    0  63.0      1      0   77.9583         2\n",
              " 782       1    1  29.0      0      0   30.0000         2\n",
              " 27        1    1  19.0      3      2  263.0000         2\n",
              " 340       2    1   2.0      1      1   26.0000         2\n",
              " \n",
              " [146 rows x 7 columns])"
            ]
          },
          "execution_count": 456,
          "metadata": {},
          "output_type": "execute_result"
        }
      ],
      "source": [
        "x_train,x_train"
      ]
    },
    {
      "cell_type": "code",
      "execution_count": null,
      "id": "416a092a-01fd-4e79-83d8-9a7de56dcf02",
      "metadata": {
        "id": "416a092a-01fd-4e79-83d8-9a7de56dcf02",
        "outputId": "fd9ed65d-238e-46d4-f25b-99e53168bcf1"
      },
      "outputs": [
        {
          "data": {
            "text/plain": [
              "(659    0\n",
              " 331    0\n",
              " 742    1\n",
              " 715    0\n",
              " 339    0\n",
              "       ..\n",
              " 75     0\n",
              " 275    1\n",
              " 782    0\n",
              " 27     0\n",
              " 340    1\n",
              " Name: Survived, Length: 146, dtype: int64,\n",
              " 765    1\n",
              " 21     1\n",
              " 412    1\n",
              " 632    1\n",
              " 796    1\n",
              " 645    1\n",
              " 741    0\n",
              " 587    1\n",
              " 209    1\n",
              " 701    1\n",
              " 630    1\n",
              " 151    1\n",
              " 292    0\n",
              " 435    1\n",
              " 716    1\n",
              " 681    1\n",
              " 311    1\n",
              " 218    1\n",
              " 174    0\n",
              " 137    0\n",
              " 621    1\n",
              " 609    1\n",
              " 618    1\n",
              " 336    0\n",
              " 110    0\n",
              " 862    1\n",
              " 539    1\n",
              " 512    1\n",
              " 789    0\n",
              " 251    0\n",
              " 516    1\n",
              " 66     1\n",
              " 748    0\n",
              " 583    0\n",
              " 329    1\n",
              " 452    0\n",
              " 679    1\n",
              " Name: Survived, dtype: int64)"
            ]
          },
          "execution_count": 457,
          "metadata": {},
          "output_type": "execute_result"
        }
      ],
      "source": [
        "y_train,y_test"
      ]
    },
    {
      "cell_type": "code",
      "execution_count": null,
      "id": "318f67e4-5054-4467-8ab5-104ce8d819b3",
      "metadata": {
        "id": "318f67e4-5054-4467-8ab5-104ce8d819b3"
      },
      "outputs": [],
      "source": [
        "#Logistic regression and fit the model\n",
        "Logistic_regression = LogisticRegression(max_iter=1000) # initialize the model i.e. called instance creation of class object.\n"
      ]
    },
    {
      "cell_type": "code",
      "execution_count": null,
      "id": "81c7c2af-5309-4101-a0d5-a1b51ea26fe0",
      "metadata": {
        "id": "81c7c2af-5309-4101-a0d5-a1b51ea26fe0",
        "outputId": "7bdf868c-6e1e-4c27-eae5-8f0a801e136d"
      },
      "outputs": [
        {
          "name": "stdout",
          "output_type": "stream",
          "text": [
            "\n",
            "Model training completed successfully.\n"
          ]
        }
      ],
      "source": [
        "\n",
        "# First create object 'Logistic_regression' for class LogisticRegression\n",
        "Logistic_regression.fit(x_train,y_train) # Then use this object to fit the model. This is the std methodology to build any algo. in sklearn\n",
        "\n",
        "print(\"\\nModel training completed successfully.\")"
      ]
    },
    {
      "cell_type": "code",
      "execution_count": null,
      "id": "ef3df2fd-baad-41dc-8a6b-1f02857b857c",
      "metadata": {
        "id": "ef3df2fd-baad-41dc-8a6b-1f02857b857c",
        "outputId": "990f2ab4-208c-4910-a082-7a1b0dcb226a"
      },
      "outputs": [
        {
          "data": {
            "text/plain": [
              "PassengerId    0\n",
              "Survived       0\n",
              "Pclass         0\n",
              "Sex            0\n",
              "Age            0\n",
              "SibSp          0\n",
              "Parch          0\n",
              "Fare           0\n",
              "Embarked       0\n",
              "dtype: int64"
            ]
          },
          "execution_count": 460,
          "metadata": {},
          "output_type": "execute_result"
        }
      ],
      "source": [
        "data_train.isnull().sum()"
      ]
    },
    {
      "cell_type": "markdown",
      "id": "df2f4227-c297-4da6-95b0-3d25c27c47dc",
      "metadata": {
        "id": "df2f4227-c297-4da6-95b0-3d25c27c47dc"
      },
      "source": [
        "# Train accuracy"
      ]
    },
    {
      "cell_type": "code",
      "execution_count": null,
      "id": "2476fa92-186d-491f-86b2-28b260113c77",
      "metadata": {
        "id": "2476fa92-186d-491f-86b2-28b260113c77",
        "outputId": "88bf43ba-77f5-4b27-e81a-52ee88864c8c"
      },
      "outputs": [
        {
          "data": {
            "text/plain": [
              "array([0, 0, 1, 0, 0, 1, 1, 0, 1, 1, 1, 1, 0, 1, 0, 1, 1, 1, 0, 1, 1, 1,\n",
              "       1, 0, 1, 1, 1, 1, 0, 1, 1, 0, 1, 1, 1, 0, 0, 1, 0, 1, 1, 0, 1, 1,\n",
              "       0, 1, 1, 1, 1, 1, 0, 1, 0, 1, 0, 0, 1, 0, 1, 0, 1, 0, 1, 1, 1, 0,\n",
              "       1, 1, 0, 1, 1, 0, 1, 0, 1, 1, 1, 1, 0, 1, 0, 1, 1, 0, 1, 1, 0, 0,\n",
              "       0, 0, 1, 1, 1, 1, 1, 1, 1, 1, 1, 1, 1, 1, 1, 1, 1, 0, 1, 1, 1, 1,\n",
              "       0, 0, 1, 0, 0, 1, 1, 1, 1, 1, 0, 0, 1, 1, 1, 1, 0, 0, 0, 1, 1, 1,\n",
              "       0, 1, 0, 1, 1, 1, 1, 1, 1, 0, 1, 1, 1, 1], dtype=int64)"
            ]
          },
          "execution_count": 423,
          "metadata": {},
          "output_type": "execute_result"
        }
      ],
      "source": [
        "y_prediction =Logistic_regression.predict(x_train)\n",
        "y_prediction"
      ]
    },
    {
      "cell_type": "code",
      "execution_count": null,
      "id": "1b3a25a3-a379-44df-8fa0-23f167cad80a",
      "metadata": {
        "id": "1b3a25a3-a379-44df-8fa0-23f167cad80a",
        "outputId": "21cf757c-aefb-45cc-f1ad-1a3f4c658d7e"
      },
      "outputs": [
        {
          "name": "stdout",
          "output_type": "stream",
          "text": [
            "Accuracy is : 82.1917808219178\n"
          ]
        }
      ],
      "source": [
        "Accuracy = accuracy_score(y_train, y_prediction)   #passing the y and yhat values\n",
        "print(\"Accuracy is :\",Accuracy*100)"
      ]
    },
    {
      "cell_type": "code",
      "execution_count": null,
      "id": "193426fd-2f28-4544-b91f-a58ec246af62",
      "metadata": {
        "id": "193426fd-2f28-4544-b91f-a58ec246af62",
        "outputId": "e1f9f889-f1ad-4895-8382-0d9e20ac4636"
      },
      "outputs": [
        {
          "data": {
            "text/plain": [
              "array([[35, 14],\n",
              "       [12, 85]], dtype=int64)"
            ]
          },
          "execution_count": 462,
          "metadata": {},
          "output_type": "execute_result"
        }
      ],
      "source": [
        "confusion_matrix(y_train,y_prediction)"
      ]
    },
    {
      "cell_type": "code",
      "execution_count": null,
      "id": "75ec05de-1d40-44f0-b7e2-da59d10a705b",
      "metadata": {
        "id": "75ec05de-1d40-44f0-b7e2-da59d10a705b",
        "outputId": "54d8db6b-99eb-49c6-ea8e-d14ed35dcce9"
      },
      "outputs": [
        {
          "data": {
            "text/plain": [
              "'              precision    recall  f1-score   support\\n\\n           0       0.74      0.71      0.73        49\\n           1       0.86      0.88      0.87        97\\n\\n    accuracy                           0.82       146\\n   macro avg       0.80      0.80      0.80       146\\nweighted avg       0.82      0.82      0.82       146\\n'"
            ]
          },
          "execution_count": 463,
          "metadata": {},
          "output_type": "execute_result"
        }
      ],
      "source": [
        "Report = classification_report(y_train, y_prediction)\n",
        "Report"
      ]
    },
    {
      "cell_type": "markdown",
      "id": "5e0ca5c9-64c7-4328-ac98-bc898512ce94",
      "metadata": {
        "id": "5e0ca5c9-64c7-4328-ac98-bc898512ce94"
      },
      "source": [
        "# Test Accuracy"
      ]
    },
    {
      "cell_type": "code",
      "execution_count": null,
      "id": "aefdc269-1a45-47ee-8144-753839b2224d",
      "metadata": {
        "id": "aefdc269-1a45-47ee-8144-753839b2224d",
        "outputId": "142ee8e7-f280-4812-dd3d-36b32ecb5789"
      },
      "outputs": [
        {
          "data": {
            "text/plain": [
              "765    1\n",
              "21     1\n",
              "412    1\n",
              "632    1\n",
              "796    1\n",
              "645    1\n",
              "741    0\n",
              "587    1\n",
              "209    1\n",
              "701    1\n",
              "630    1\n",
              "151    1\n",
              "292    0\n",
              "435    1\n",
              "716    1\n",
              "681    1\n",
              "311    1\n",
              "218    1\n",
              "174    0\n",
              "137    0\n",
              "621    1\n",
              "609    1\n",
              "618    1\n",
              "336    0\n",
              "110    0\n",
              "862    1\n",
              "539    1\n",
              "512    1\n",
              "789    0\n",
              "251    0\n",
              "516    1\n",
              "66     1\n",
              "748    0\n",
              "583    0\n",
              "329    1\n",
              "452    0\n",
              "679    1\n",
              "Name: Survived, dtype: int64"
            ]
          },
          "execution_count": 473,
          "metadata": {},
          "output_type": "execute_result"
        }
      ],
      "source": [
        "y_test"
      ]
    },
    {
      "cell_type": "code",
      "execution_count": null,
      "id": "57d1609f-060f-46f7-8ba3-595c5e156bf1",
      "metadata": {
        "id": "57d1609f-060f-46f7-8ba3-595c5e156bf1",
        "outputId": "d17de66e-7644-49e0-bec5-53e950282e8c"
      },
      "outputs": [
        {
          "data": {
            "text/plain": [
              "array([1, 0, 1, 1, 1, 0, 1, 0, 1, 0, 0, 1, 0, 1, 1, 1, 1, 1, 0, 1, 0, 1,\n",
              "       1, 1, 0, 1, 1, 0, 0, 1, 1, 1, 1, 1, 1, 1, 0], dtype=int64)"
            ]
          },
          "execution_count": 482,
          "metadata": {},
          "output_type": "execute_result"
        }
      ],
      "source": [
        "y_prediction=Logistic_regression.predict(x_test)\n",
        "y_prediction"
      ]
    },
    {
      "cell_type": "code",
      "execution_count": null,
      "id": "1f138e5e-2b36-4ce2-8c8a-37f997bfe629",
      "metadata": {
        "id": "1f138e5e-2b36-4ce2-8c8a-37f997bfe629",
        "outputId": "0dd73c97-8875-4159-bb60-4bb93cc1bddd"
      },
      "outputs": [
        {
          "name": "stdout",
          "output_type": "stream",
          "text": [
            "Accuracy: 59.45945945945946\n"
          ]
        }
      ],
      "source": [
        "Accuracy_score=accuracy_score(y_test,y_prediction)\n",
        "print(\"Accuracy:\",Accuracy_score*100)"
      ]
    },
    {
      "cell_type": "markdown",
      "id": "86da5b3c-af41-44b6-8c17-b74ab370661e",
      "metadata": {
        "id": "86da5b3c-af41-44b6-8c17-b74ab370661e"
      },
      "source": [
        "# Model Evaluation:"
      ]
    },
    {
      "cell_type": "code",
      "execution_count": null,
      "id": "6c001b6c-e265-4bd5-8bfb-d656fd291e8e",
      "metadata": {
        "id": "6c001b6c-e265-4bd5-8bfb-d656fd291e8e"
      },
      "outputs": [],
      "source": [
        "#Evaluate the performance of the model on the testing data using accuracy, precision, recall, F1-score, and ROC-AUC score."
      ]
    },
    {
      "cell_type": "markdown",
      "id": "23bdabc6-3182-4428-b88a-3212c0ea5022",
      "metadata": {
        "id": "23bdabc6-3182-4428-b88a-3212c0ea5022"
      },
      "source": [
        "# Evaluation metrics"
      ]
    },
    {
      "cell_type": "code",
      "execution_count": null,
      "id": "79c4f856-dd5e-4d2e-959f-7d13dd893c88",
      "metadata": {
        "id": "79c4f856-dd5e-4d2e-959f-7d13dd893c88",
        "outputId": "63927017-c1d2-4e70-9190-2a06a6056a14"
      },
      "outputs": [
        {
          "name": "stdout",
          "output_type": "stream",
          "text": [
            "Precision: 72.0\n",
            "Recall: 69.23076923076923\n",
            "F1 Score: 70.58823529411765\n",
            "ROC AUC Score: 52.79720279720279\n"
          ]
        }
      ],
      "source": [
        "Precision = precision_score(y_test, y_prediction)\n",
        "Recall = recall_score(y_test, y_prediction)\n",
        "F1 = f1_score(y_test, y_prediction)\n",
        "roc_auc = roc_auc_score(y_test, y_prediction)\n",
        "\n",
        "print(f'Precision: {Precision*100}')\n",
        "print(f'Recall: {Recall*100}')\n",
        "print(f'F1 Score: {F1*100}')\n",
        "print(f'ROC AUC Score: {roc_auc*100}')"
      ]
    },
    {
      "cell_type": "code",
      "execution_count": null,
      "id": "b64fc965-682d-4654-b0dc-5f6f08ffe9ac",
      "metadata": {
        "id": "b64fc965-682d-4654-b0dc-5f6f08ffe9ac"
      },
      "outputs": [],
      "source": [
        "#Visualize the ROC curve."
      ]
    },
    {
      "cell_type": "code",
      "execution_count": null,
      "id": "ed9cfc89-3f41-4831-aebd-805bf6b94877",
      "metadata": {
        "id": "ed9cfc89-3f41-4831-aebd-805bf6b94877",
        "outputId": "e87aff83-733e-4c6a-a477-91b2e412bfff"
      },
      "outputs": [
        {
          "data": {
            "image/png": "[encoded data removed]",
            "text/plain": [
              "<Figure size 640x480 with 1 Axes>"
            ]
          },
          "metadata": {},
          "output_type": "display_data"
        }
      ],
      "source": [
        "from sklearn.metrics import roc_curve #roc-receiver operating characteristic\n",
        "from sklearn.metrics import roc_auc_score # auc-area under curve\n",
        "\n",
        "# ROC curve\n",
        "fpr, tpr, _ = roc_curve(y_test, y_pred)\n",
        "plt.plot(fpr, tpr, marker='.',color='Green')\n",
        "plt.plot([0, 1], [0, 1], 'k--')# x axis range is 0 to 1, y axis range is 0 to 1, k-- is a line type - dotted\n",
        "plt.xlabel('False Positive Rate or [1 - True Negative Rate]')\n",
        "plt.ylabel('True Positive Rate')\n",
        "plt.title('ROC Curve')\n",
        "plt.show()\n",
        "\n"
      ]
    },
    {
      "cell_type": "markdown",
      "id": "dd9a4239-31d8-4588-b9da-9238f14a3f96",
      "metadata": {
        "id": "dd9a4239-31d8-4588-b9da-9238f14a3f96"
      },
      "source": [
        "#  Interpretation:\n",
        "Interpret the coefficients of the logistic regression model.\n"
      ]
    },
    {
      "cell_type": "code",
      "execution_count": null,
      "id": "7e85b895-8912-4af0-8be8-8397fae7f448",
      "metadata": {
        "id": "7e85b895-8912-4af0-8be8-8397fae7f448",
        "outputId": "148a4e24-ae7b-4f6f-f271-fb986051264c"
      },
      "outputs": [
        {
          "name": "stdout",
          "output_type": "stream",
          "text": [
            "    Feature  Coefficient\n",
            "0    Pclass    -0.416179\n",
            "1       Sex    -2.375795\n",
            "2       Age    -0.050512\n",
            "3     SibSp     0.293848\n",
            "4     Parch    -0.401067\n",
            "5      Fare    -0.000122\n",
            "6  Embarked    -0.216337\n",
            "The coefficients represent the log odds of survival for a unit increase in the corresponding feature.\n"
          ]
        }
      ],
      "source": [
        "# Model coefficients\n",
        "coefficients = pd.DataFrame({'Feature': x.columns, 'Coefficient': Logistic_regression.coef_[0]})\n",
        "print(coefficients)\n",
        "\n",
        "# Discuss significance\n",
        "print(\"The coefficients represent the log odds of survival for a unit increase in the corresponding feature.\")"
      ]
    },
    {
      "cell_type": "markdown",
      "id": "835a4bc7-39d5-496d-82d4-fafc9830eb82",
      "metadata": {
        "id": "835a4bc7-39d5-496d-82d4-fafc9830eb82"
      },
      "source": [
        "# Discuss the significance of features in predicting the target variable (survival probability in this case)\n",
        " .1class (Passenger Class):\n",
        "\n",
        "Coefficient: Generally, higher passenger classes (e.g., 1st class) have positive coefficients, suggesting higher survival probabilities for 1st class passengers compared to 3rd class.\n",
        "\n",
        "Significance: Historical data and analyses show that 1st class passengers had higher survival rates compared to 2nd and 3rd class passengers.\n",
        "\n",
        "2.Age:\n",
        "\n",
        "Coefficient: The coefficient for age can vary. If negative, it suggests that older passengers had a lower survival probability.\n",
        "\n",
        "Significance: In practice, children and younger individuals often had higher survival rates, possibly due to lifeboat allocations and other factors.\n",
        "\n",
        "3.SibSp (Number of Siblings/Spouses Aboard):\n",
        "\n",
        "Coefficient: This feature’s coefficient can indicate whether having more family members aboard increased or decreased survival probability.\n",
        "\n",
        "Significance: Having family aboard might have affected survival rates due to family members potentially helping each other, but this effect could be complex.\n",
        "\n",
        "4.Parch (Number of Parents/Children Aboard):\n",
        "\n",
        "Coefficient: Similar to SibSp, this feature’s coefficient can indicate the impact of having parents or children on survival.\n",
        "\n",
        "Significance: Having dependent family members might have influenced survival chances, particularly if lifeboats were prioritized for families.\n",
        "\n",
        "5.Fare:\n",
        "\n",
        "Coefficient: A higher fare often corresponds to a higher survival probability due to better accommodations and possibly higher prioritization in lifeboat access.\n",
        "\n",
        "Significance: Passengers who could afford higher fares were more likely to be in better cabins and possibly in more favorable positions to survive."
      ]
    },
    {
      "cell_type": "markdown",
      "id": "b165a097-4e6e-4b18-ba6d-d1dc4ac977d2",
      "metadata": {
        "id": "b165a097-4e6e-4b18-ba6d-d1dc4ac977d2"
      },
      "source": [
        "# Interview Questions:\n",
        "1. What is the difference between precision and recall?\n",
        "\n",
        "Precision and Recall are two important metrics used to evaluate the performance of classification models, particularly in binary classification:\n",
        "\n",
        "Precision (also known as Positive Predictive Value): This measures the accuracy of the positive predictions. It is defined as the ratio of true positive predictions to the total positive predictions (true positives + false positives): [ \\text{Precision} = \\frac{\\text{True Positives}}{\\text{True Positives} + \\text{False Positives}} ] Usefulness: High precision indicates that when the model predicts a positive class, it is very likely to be correct. This is crucial in scenarios where false positives are costl.\n",
        "\n",
        "Recall (also known as Sensitivity or True Positive Rate): This measures the model's ability to identify all relevant positive cases. It is defined as the ratio of true positives to the total actual positives (true positives + false negatives): [ \\text{Recall} = \\frac{\\text{True Positives}}{\\text{True Positives} + \\text{False Negatives}} ] Usefulness: High recall indicates that the model is good at capturing all positive instances. This is especially important in situations where missing a positive case is critical (e.g., disease detection).\n"
      ]
    },
    {
      "cell_type": "markdown",
      "id": "6fad41a4-7f37-4af9-a99a-9f575c8a7578",
      "metadata": {
        "id": "6fad41a4-7f37-4af9-a99a-9f575c8a7578"
      },
      "source": [
        "# 2. What is cross-validation, and why is it important in binary classification?\n",
        "Cross-validation is a statistical method used to evaluate the performance of a model by partitioning the data into subsets, training the model on some subsets, and validating it on others. The most common type is k-fold cross-validation:\n",
        "\n",
        "The dataset is divided into k subsets (or folds).\n",
        "The model is trained on k-1 folds and validated on the remaining fold. This process is repeated k times, with each fold used as the validation set once.\n",
        "Importance of Cross-Validation in Binary Classification:\n",
        "\n",
        "Generalization: It helps assess how well the model generalizes to an independent dataset. This is crucial to avoid overfitting, where the model performs well on training data but poorly on unseen data.\n",
        "\n",
        "Performance Stability: Cross-validation provides a more robust estimate of model performance by averaging the results across multiple folds, reducing the variance associated with a single train-test split.\n",
        "\n",
        "Hyperparameter Tuning: It is often used during hyperparameter tuning to select the best parameters for the model, ensuring that the chosen model performs well on various subsets of data.\n",
        "\n",
        "Data Utilization: It allows for efficient use of the dataset, particularly when data is limited, as every data point is used for both training and validation."
      ]
    },
    {
      "cell_type": "code",
      "execution_count": null,
      "id": "a36c54f0-cf77-42a7-b065-6430f7a568b4",
      "metadata": {
        "id": "a36c54f0-cf77-42a7-b065-6430f7a568b4"
      },
      "outputs": [],
      "source": []
    }
  ],
  "metadata": {
    "kernelspec": {
      "display_name": "Python 3 (ipykernel)",
      "language": "python",
      "name": "python3"
    },
    "language_info": {
      "codemirror_mode": {
        "name": "ipython",
        "version": 3
      },
      "file_extension": ".py",
      "mimetype": "text/x-python",
      "name": "python",
      "nbconvert_exporter": "python",
      "pygments_lexer": "ipython3",
      "version": "3.12.4"
    },
    "colab": {
      "provenance": []
    }
  },
  "nbformat": 4,
  "nbformat_minor": 5
}