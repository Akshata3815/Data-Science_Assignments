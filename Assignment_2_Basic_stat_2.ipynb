{
  "nbformat": 4,
  "nbformat_minor": 0,
  "metadata": {
    "colab": {
      "provenance": []
    },
    "kernelspec": {
      "name": "python3",
      "display_name": "Python 3"
    },
    "language_info": {
      "name": "python"
    }
  },
  "cells": [
    {
      "cell_type": "markdown",
      "source": [
        "**Estimation And Confidence Intervals**"
      ],
      "metadata": {
        "id": "GRUZq8GGY6hv"
      }
    },
    {
      "cell_type": "code",
      "source": [
        "#import the neccesary libraries\n",
        "from scipy import stats\n",
        "import pandas as pd\n",
        "import numpy as np\n",
        "\n",
        "import warnings\n",
        "warnings.filterwarnings('ignore')"
      ],
      "metadata": {
        "id": "-XOhzNN9ZGRi"
      },
      "execution_count": null,
      "outputs": []
    },
    {
      "cell_type": "code",
      "source": [
        "#data\n",
        "data=pd.DataFrame([1.13, 1.55, 1.43, 0.92, 1.25, 1.36, 1.32, 0.85, 1.07, 1.48, 1.20, 1.33, 1.18, 1.22, 1.29])\n",
        "print(data)"
      ],
      "metadata": {
        "colab": {
          "base_uri": "https://localhost:8080/"
        },
        "id": "HYHN7NyQbLjC",
        "outputId": "669cb7f8-2635-4ed7-a0dc-6c77a9d85a7e"
      },
      "execution_count": null,
      "outputs": [
        {
          "output_type": "stream",
          "name": "stdout",
          "text": [
            "       0\n",
            "0   1.13\n",
            "1   1.55\n",
            "2   1.43\n",
            "3   0.92\n",
            "4   1.25\n",
            "5   1.36\n",
            "6   1.32\n",
            "7   0.85\n",
            "8   1.07\n",
            "9   1.48\n",
            "10  1.20\n",
            "11  1.33\n",
            "12  1.18\n",
            "13  1.22\n",
            "14  1.29\n"
          ]
        }
      ]
    },
    {
      "cell_type": "code",
      "source": [
        "len(data)     #15 sample points"
      ],
      "metadata": {
        "colab": {
          "base_uri": "https://localhost:8080/"
        },
        "id": "uRD3BQHpbfpU",
        "outputId": "719142be-490c-43a4-fa6f-17fd105f0924"
      },
      "execution_count": null,
      "outputs": [
        {
          "output_type": "execute_result",
          "data": {
            "text/plain": [
              "15"
            ]
          },
          "metadata": {},
          "execution_count": 10
        }
      ]
    },
    {
      "cell_type": "code",
      "source": [
        "#a. Build 99% Confidence Interval Using Sample Standard Deviation\n",
        "import scipy\n",
        "\n",
        "#calculate the Sample standard deviation(s) and calculate the mean\n",
        "mean_data=data.mean()\n",
        "mean_data"
      ],
      "metadata": {
        "colab": {
          "base_uri": "https://localhost:8080/",
          "height": 115
        },
        "id": "8-s4cuYDbrov",
        "outputId": "87010ccc-772f-4756-c896-09c0b68f6416"
      },
      "execution_count": null,
      "outputs": [
        {
          "output_type": "execute_result",
          "data": {
            "text/plain": [
              "0    1.238667\n",
              "dtype: float64"
            ],
            "text/html": [
              "<div>\n",
              "<style scoped>\n",
              "    .dataframe tbody tr th:only-of-type {\n",
              "        vertical-align: middle;\n",
              "    }\n",
              "\n",
              "    .dataframe tbody tr th {\n",
              "        vertical-align: top;\n",
              "    }\n",
              "\n",
              "    .dataframe thead th {\n",
              "        text-align: right;\n",
              "    }\n",
              "</style>\n",
              "<table border=\"1\" class=\"dataframe\">\n",
              "  <thead>\n",
              "    <tr style=\"text-align: right;\">\n",
              "      <th></th>\n",
              "      <th>0</th>\n",
              "    </tr>\n",
              "  </thead>\n",
              "  <tbody>\n",
              "    <tr>\n",
              "      <th>0</th>\n",
              "      <td>1.238667</td>\n",
              "    </tr>\n",
              "  </tbody>\n",
              "</table>\n",
              "</div><br><label><b>dtype:</b> float64</label>"
            ]
          },
          "metadata": {},
          "execution_count": 11
        }
      ]
    },
    {
      "cell_type": "code",
      "source": [
        "std_data=data.std()\n",
        "std_data"
      ],
      "metadata": {
        "colab": {
          "base_uri": "https://localhost:8080/",
          "height": 115
        },
        "id": "ikZKTPtbcRxi",
        "outputId": "0c439e67-5274-42a7-a690-1a9d72a55683"
      },
      "execution_count": null,
      "outputs": [
        {
          "output_type": "execute_result",
          "data": {
            "text/plain": [
              "0    0.193164\n",
              "dtype: float64"
            ],
            "text/html": [
              "<div>\n",
              "<style scoped>\n",
              "    .dataframe tbody tr th:only-of-type {\n",
              "        vertical-align: middle;\n",
              "    }\n",
              "\n",
              "    .dataframe tbody tr th {\n",
              "        vertical-align: top;\n",
              "    }\n",
              "\n",
              "    .dataframe thead th {\n",
              "        text-align: right;\n",
              "    }\n",
              "</style>\n",
              "<table border=\"1\" class=\"dataframe\">\n",
              "  <thead>\n",
              "    <tr style=\"text-align: right;\">\n",
              "      <th></th>\n",
              "      <th>0</th>\n",
              "    </tr>\n",
              "  </thead>\n",
              "  <tbody>\n",
              "    <tr>\n",
              "      <th>0</th>\n",
              "      <td>0.193164</td>\n",
              "    </tr>\n",
              "  </tbody>\n",
              "</table>\n",
              "</div><br><label><b>dtype:</b> float64</label>"
            ]
          },
          "metadata": {},
          "execution_count": 12
        }
      ]
    },
    {
      "cell_type": "code",
      "source": [
        "n = len(data)\n",
        "mean = mean_data\n",
        "std_dev = np.std(data, ddof = 1)    #ddof=adjust the divisor n-1\n",
        "df = n-1\n",
        "confidence_level = 0.99\n",
        "\n",
        "#he abbreviation ppf stands for \"percent point function,\" which is another term for the inverse CDF.\n",
        "# Essentially, it finds the t-score that corresponds to a given cumulative probability.\n",
        "\n",
        "t_critical = stats.t.ppf((1+ confidence_level) /2, df)\n",
        "margin_of_error = t_critical * (std_dev / np.sqrt(n))\n",
        "#confidence interval=mean+ME,mean-ME\n",
        "confidence_interval = (mean - margin_of_error, mean + margin_of_error)\n",
        "\n",
        "print(\"Mean is: \",round(mean,4))\n",
        "print(\"Standared deviation is :\",round(std_dev,4))\n",
        "print(\"Margin Of the Error is:\",round(margin_of_error,4))\n",
        "print(\"Confidence interval is :\",confidence_interval)   #mean, std_dev, df, t_critical, margin_of_error, confidence_interval"
      ],
      "metadata": {
        "colab": {
          "base_uri": "https://localhost:8080/"
        },
        "id": "o06uzTK4nh_3",
        "outputId": "bdf8bc13-34e9-4396-b40a-20d418498280"
      },
      "execution_count": null,
      "outputs": [
        {
          "output_type": "stream",
          "name": "stdout",
          "text": [
            "Mean is:  0    1.2387\n",
            "dtype: float64\n",
            "Standared deviation is : 0.1932\n",
            "Margin Of the Error is: 0.1485\n",
            "Confidence interval is : (0    1.090197\n",
            "dtype: float64, 0    1.387136\n",
            "dtype: float64)\n"
          ]
        }
      ]
    },
    {
      "cell_type": "code",
      "source": [
        "#b. Build 99% Confidence Interval Using Known Population Standard Deviation\n",
        "# the population standard deviation is 0.2 million characters, construct a 99% confidence interval\n"
      ],
      "metadata": {
        "id": "k8v8NZMKpq-u"
      },
      "execution_count": null,
      "outputs": []
    },
    {
      "cell_type": "code",
      "source": [
        "#import numpy as np\n",
        "import scipy.stats as stats\n",
        "\n",
        "\n",
        "data = [1.13, 1.55, 1.43, 0.92, 1.25, 1.36, 1.32, 0.85, 1.07, 1.48, 1.20, 1.33, 1.18, 1.22, 1.29]\n",
        "n = len(data)\n",
        "mean = mean_data\n",
        "\n",
        "# Population standard deviation\n",
        "sigma = 0.2\n",
        "\n",
        "\n",
        "confidence_level = 0.99\n",
        "z_critical = stats.norm.ppf((1 + confidence_level) / 2)\n",
        "\n",
        "margin_of_error = z_critical * (sigma / np.sqrt(n))\n",
        "\n",
        "confidence_interval = (mean - margin_of_error, mean + margin_of_error)\n",
        "\n",
        "mean, sigma, z_critical, margin_of_error, confidence_interval\n",
        "\n",
        "print(\"Mean is: \",mean)\n",
        "print(\"Sigma is :\",sigma)\n",
        "print(\"Margin Of the Error is:\",round(margin_of_error,3))\n",
        "print(\"Confidence interval is :\",confidence_interval)\n"
      ],
      "metadata": {
        "colab": {
          "base_uri": "https://localhost:8080/"
        },
        "id": "WJCFRIEEpM1m",
        "outputId": "798f08c0-e9a1-4892-91c0-5a9375123802"
      },
      "execution_count": null,
      "outputs": [
        {
          "output_type": "stream",
          "name": "stdout",
          "text": [
            "Mean is:  0    1.238667\n",
            "dtype: float64\n",
            "Sigma is : 0.2\n",
            "Margin Of the Error is: 0.133\n",
            "Confidence interval is : (0    1.105651\n",
            "dtype: float64, 0    1.371682\n",
            "dtype: float64)\n"
          ]
        }
      ]
    },
    {
      "cell_type": "code",
      "source": [],
      "metadata": {
        "id": "CWQ7iR3vqKVr"
      },
      "execution_count": null,
      "outputs": []
    }
  ]
}