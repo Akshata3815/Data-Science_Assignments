{
  "nbformat": 4,
  "nbformat_minor": 0,
  "metadata": {
    "colab": {
      "provenance": []
    },
    "kernelspec": {
      "name": "python3",
      "display_name": "Python 3"
    },
    "language_info": {
      "name": "python"
    }
  },
  "cells": [
    {
      "cell_type": "markdown",
      "source": [
        "**Chi-Square Test**"
      ],
      "metadata": {
        "id": "RuJmyguBRvbc"
      }
    },
    {
      "cell_type": "code",
      "source": [
        "from scipy.stats import chi2_contingency\n",
        "from matplotlib import pyplot as plt\n",
        "import pandas as pd\n",
        "import numpy as np\n"
      ],
      "metadata": {
        "id": "yOsSE0lFRy0y"
      },
      "execution_count": null,
      "outputs": []
    },
    {
      "cell_type": "code",
      "source": [
        "#The data is summarized in a contingency table showing the counts of customers in each satisfaction level for both types of devices\n",
        "data=[[50,70],[80,100],[60,90],[30,50],[20,50]]"
      ],
      "metadata": {
        "id": "TqfPImijSTr9"
      },
      "execution_count": null,
      "outputs": []
    },
    {
      "cell_type": "code",
      "source": [
        "data"
      ],
      "metadata": {
        "colab": {
          "base_uri": "https://localhost:8080/"
        },
        "id": "1t6FkpSrStr6",
        "outputId": "a3c439af-27f4-44b1-c14f-16fa5aa58f69"
      },
      "execution_count": null,
      "outputs": [
        {
          "output_type": "execute_result",
          "data": {
            "text/plain": [
              "[[50, 70], [80, 100], [60, 90], [30, 50], [20, 50]]"
            ]
          },
          "metadata": {},
          "execution_count": 13
        }
      ]
    },
    {
      "cell_type": "code",
      "source": [
        "df=pd.DataFrame(data,\n",
        "                index=['Very Satisfied','Satisfied','Neutral','Unsatisfied','Very Unsatisfied'] ,#row names                       ''\n",
        "                columns=['Smart Thermostat','Smart Light'])     #column names"
      ],
      "metadata": {
        "id": "PRpWng8YSuV-"
      },
      "execution_count": null,
      "outputs": []
    },
    {
      "cell_type": "code",
      "source": [
        "df"
      ],
      "metadata": {
        "colab": {
          "base_uri": "https://localhost:8080/",
          "height": 206
        },
        "id": "Oly9WCywTgPX",
        "outputId": "bb858786-703b-4312-fe1f-3cc0f75e29b1"
      },
      "execution_count": null,
      "outputs": [
        {
          "output_type": "execute_result",
          "data": {
            "text/plain": [
              "                  Smart Thermostat  Smart Light\n",
              "Very Satisfied                  50           70\n",
              "Satisfied                       80          100\n",
              "Neutral                         60           90\n",
              "Unsatisfied                     30           50\n",
              "Very Unsatisfied                20           50"
            ],
            "text/html": [
              "\n",
              "  <div id=\"df-50fe5b05-fa9d-40cc-87bf-ac02565a2d85\" class=\"colab-df-container\">\n",
              "    <div>\n",
              "<style scoped>\n",
              "    .dataframe tbody tr th:only-of-type {\n",
              "        vertical-align: middle;\n",
              "    }\n",
              "\n",
              "    .dataframe tbody tr th {\n",
              "        vertical-align: top;\n",
              "    }\n",
              "\n",
              "    .dataframe thead th {\n",
              "        text-align: right;\n",
              "    }\n",
              "</style>\n",
              "<table border=\"1\" class=\"dataframe\">\n",
              "  <thead>\n",
              "    <tr style=\"text-align: right;\">\n",
              "      <th></th>\n",
              "      <th>Smart Thermostat</th>\n",
              "      <th>Smart Light</th>\n",
              "    </tr>\n",
              "  </thead>\n",
              "  <tbody>\n",
              "    <tr>\n",
              "      <th>Very Satisfied</th>\n",
              "      <td>50</td>\n",
              "      <td>70</td>\n",
              "    </tr>\n",
              "    <tr>\n",
              "      <th>Satisfied</th>\n",
              "      <td>80</td>\n",
              "      <td>100</td>\n",
              "    </tr>\n",
              "    <tr>\n",
              "      <th>Neutral</th>\n",
              "      <td>60</td>\n",
              "      <td>90</td>\n",
              "    </tr>\n",
              "    <tr>\n",
              "      <th>Unsatisfied</th>\n",
              "      <td>30</td>\n",
              "      <td>50</td>\n",
              "    </tr>\n",
              "    <tr>\n",
              "      <th>Very Unsatisfied</th>\n",
              "      <td>20</td>\n",
              "      <td>50</td>\n",
              "    </tr>\n",
              "  </tbody>\n",
              "</table>\n",
              "</div>\n",
              "    <div class=\"colab-df-buttons\">\n",
              "\n",
              "  <div class=\"colab-df-container\">\n",
              "    <button class=\"colab-df-convert\" onclick=\"convertToInteractive('df-50fe5b05-fa9d-40cc-87bf-ac02565a2d85')\"\n",
              "            title=\"Convert this dataframe to an interactive table.\"\n",
              "            style=\"display:none;\">\n",
              "\n",
              "  <svg xmlns=\"http://www.w3.org/2000/svg\" height=\"24px\" viewBox=\"0 -960 960 960\">\n",
              "    <path d=\"M120-120v-720h720v720H120Zm60-500h600v-160H180v160Zm220 220h160v-160H400v160Zm0 220h160v-160H400v160ZM180-400h160v-160H180v160Zm440 0h160v-160H620v160ZM180-180h160v-160H180v160Zm440 0h160v-160H620v160Z\"/>\n",
              "  </svg>\n",
              "    </button>\n",
              "\n",
              "  <style>\n",
              "    .colab-df-container {\n",
              "      display:flex;\n",
              "      gap: 12px;\n",
              "    }\n",
              "\n",
              "    .colab-df-convert {\n",
              "      background-color: #E8F0FE;\n",
              "      border: none;\n",
              "      border-radius: 50%;\n",
              "      cursor: pointer;\n",
              "      display: none;\n",
              "      fill: #1967D2;\n",
              "      height: 32px;\n",
              "      padding: 0 0 0 0;\n",
              "      width: 32px;\n",
              "    }\n",
              "\n",
              "    .colab-df-convert:hover {\n",
              "      background-color: #E2EBFA;\n",
              "      box-shadow: 0px 1px 2px rgba(60, 64, 67, 0.3), 0px 1px 3px 1px rgba(60, 64, 67, 0.15);\n",
              "      fill: #174EA6;\n",
              "    }\n",
              "\n",
              "    .colab-df-buttons div {\n",
              "      margin-bottom: 4px;\n",
              "    }\n",
              "\n",
              "    [theme=dark] .colab-df-convert {\n",
              "      background-color: #3B4455;\n",
              "      fill: #D2E3FC;\n",
              "    }\n",
              "\n",
              "    [theme=dark] .colab-df-convert:hover {\n",
              "      background-color: #434B5C;\n",
              "      box-shadow: 0px 1px 3px 1px rgba(0, 0, 0, 0.15);\n",
              "      filter: drop-shadow(0px 1px 2px rgba(0, 0, 0, 0.3));\n",
              "      fill: #FFFFFF;\n",
              "    }\n",
              "  </style>\n",
              "\n",
              "    <script>\n",
              "      const buttonEl =\n",
              "        document.querySelector('#df-50fe5b05-fa9d-40cc-87bf-ac02565a2d85 button.colab-df-convert');\n",
              "      buttonEl.style.display =\n",
              "        google.colab.kernel.accessAllowed ? 'block' : 'none';\n",
              "\n",
              "      async function convertToInteractive(key) {\n",
              "        const element = document.querySelector('#df-50fe5b05-fa9d-40cc-87bf-ac02565a2d85');\n",
              "        const dataTable =\n",
              "          await google.colab.kernel.invokeFunction('convertToInteractive',\n",
              "                                                    [key], {});\n",
              "        if (!dataTable) return;\n",
              "\n",
              "        const docLinkHtml = 'Like what you see? Visit the ' +\n",
              "          '<a target=\"_blank\" href=https://colab.research.google.com/notebooks/data_table.ipynb>data table notebook</a>'\n",
              "          + ' to learn more about interactive tables.';\n",
              "        element.innerHTML = '';\n",
              "        dataTable['output_type'] = 'display_data';\n",
              "        await google.colab.output.renderOutput(dataTable, element);\n",
              "        const docLink = document.createElement('div');\n",
              "        docLink.innerHTML = docLinkHtml;\n",
              "        element.appendChild(docLink);\n",
              "      }\n",
              "    </script>\n",
              "  </div>\n",
              "\n",
              "\n",
              "<div id=\"df-d70f271f-fc41-4e4a-a167-17d703dd6452\">\n",
              "  <button class=\"colab-df-quickchart\" onclick=\"quickchart('df-d70f271f-fc41-4e4a-a167-17d703dd6452')\"\n",
              "            title=\"Suggest charts\"\n",
              "            style=\"display:none;\">\n",
              "\n",
              "<svg xmlns=\"http://www.w3.org/2000/svg\" height=\"24px\"viewBox=\"0 0 24 24\"\n",
              "     width=\"24px\">\n",
              "    <g>\n",
              "        <path d=\"M19 3H5c-1.1 0-2 .9-2 2v14c0 1.1.9 2 2 2h14c1.1 0 2-.9 2-2V5c0-1.1-.9-2-2-2zM9 17H7v-7h2v7zm4 0h-2V7h2v10zm4 0h-2v-4h2v4z\"/>\n",
              "    </g>\n",
              "</svg>\n",
              "  </button>\n",
              "\n",
              "<style>\n",
              "  .colab-df-quickchart {\n",
              "      --bg-color: #E8F0FE;\n",
              "      --fill-color: #1967D2;\n",
              "      --hover-bg-color: #E2EBFA;\n",
              "      --hover-fill-color: #174EA6;\n",
              "      --disabled-fill-color: #AAA;\n",
              "      --disabled-bg-color: #DDD;\n",
              "  }\n",
              "\n",
              "  [theme=dark] .colab-df-quickchart {\n",
              "      --bg-color: #3B4455;\n",
              "      --fill-color: #D2E3FC;\n",
              "      --hover-bg-color: #434B5C;\n",
              "      --hover-fill-color: #FFFFFF;\n",
              "      --disabled-bg-color: #3B4455;\n",
              "      --disabled-fill-color: #666;\n",
              "  }\n",
              "\n",
              "  .colab-df-quickchart {\n",
              "    background-color: var(--bg-color);\n",
              "    border: none;\n",
              "    border-radius: 50%;\n",
              "    cursor: pointer;\n",
              "    display: none;\n",
              "    fill: var(--fill-color);\n",
              "    height: 32px;\n",
              "    padding: 0;\n",
              "    width: 32px;\n",
              "  }\n",
              "\n",
              "  .colab-df-quickchart:hover {\n",
              "    background-color: var(--hover-bg-color);\n",
              "    box-shadow: 0 1px 2px rgba(60, 64, 67, 0.3), 0 1px 3px 1px rgba(60, 64, 67, 0.15);\n",
              "    fill: var(--button-hover-fill-color);\n",
              "  }\n",
              "\n",
              "  .colab-df-quickchart-complete:disabled,\n",
              "  .colab-df-quickchart-complete:disabled:hover {\n",
              "    background-color: var(--disabled-bg-color);\n",
              "    fill: var(--disabled-fill-color);\n",
              "    box-shadow: none;\n",
              "  }\n",
              "\n",
              "  .colab-df-spinner {\n",
              "    border: 2px solid var(--fill-color);\n",
              "    border-color: transparent;\n",
              "    border-bottom-color: var(--fill-color);\n",
              "    animation:\n",
              "      spin 1s steps(1) infinite;\n",
              "  }\n",
              "\n",
              "  @keyframes spin {\n",
              "    0% {\n",
              "      border-color: transparent;\n",
              "      border-bottom-color: var(--fill-color);\n",
              "      border-left-color: var(--fill-color);\n",
              "    }\n",
              "    20% {\n",
              "      border-color: transparent;\n",
              "      border-left-color: var(--fill-color);\n",
              "      border-top-color: var(--fill-color);\n",
              "    }\n",
              "    30% {\n",
              "      border-color: transparent;\n",
              "      border-left-color: var(--fill-color);\n",
              "      border-top-color: var(--fill-color);\n",
              "      border-right-color: var(--fill-color);\n",
              "    }\n",
              "    40% {\n",
              "      border-color: transparent;\n",
              "      border-right-color: var(--fill-color);\n",
              "      border-top-color: var(--fill-color);\n",
              "    }\n",
              "    60% {\n",
              "      border-color: transparent;\n",
              "      border-right-color: var(--fill-color);\n",
              "    }\n",
              "    80% {\n",
              "      border-color: transparent;\n",
              "      border-right-color: var(--fill-color);\n",
              "      border-bottom-color: var(--fill-color);\n",
              "    }\n",
              "    90% {\n",
              "      border-color: transparent;\n",
              "      border-bottom-color: var(--fill-color);\n",
              "    }\n",
              "  }\n",
              "</style>\n",
              "\n",
              "  <script>\n",
              "    async function quickchart(key) {\n",
              "      const quickchartButtonEl =\n",
              "        document.querySelector('#' + key + ' button');\n",
              "      quickchartButtonEl.disabled = true;  // To prevent multiple clicks.\n",
              "      quickchartButtonEl.classList.add('colab-df-spinner');\n",
              "      try {\n",
              "        const charts = await google.colab.kernel.invokeFunction(\n",
              "            'suggestCharts', [key], {});\n",
              "      } catch (error) {\n",
              "        console.error('Error during call to suggestCharts:', error);\n",
              "      }\n",
              "      quickchartButtonEl.classList.remove('colab-df-spinner');\n",
              "      quickchartButtonEl.classList.add('colab-df-quickchart-complete');\n",
              "    }\n",
              "    (() => {\n",
              "      let quickchartButtonEl =\n",
              "        document.querySelector('#df-d70f271f-fc41-4e4a-a167-17d703dd6452 button');\n",
              "      quickchartButtonEl.style.display =\n",
              "        google.colab.kernel.accessAllowed ? 'block' : 'none';\n",
              "    })();\n",
              "  </script>\n",
              "</div>\n",
              "\n",
              "  <div id=\"id_b95b3d8c-419e-4c15-bf86-2b41ef88f705\">\n",
              "    <style>\n",
              "      .colab-df-generate {\n",
              "        background-color: #E8F0FE;\n",
              "        border: none;\n",
              "        border-radius: 50%;\n",
              "        cursor: pointer;\n",
              "        display: none;\n",
              "        fill: #1967D2;\n",
              "        height: 32px;\n",
              "        padding: 0 0 0 0;\n",
              "        width: 32px;\n",
              "      }\n",
              "\n",
              "      .colab-df-generate:hover {\n",
              "        background-color: #E2EBFA;\n",
              "        box-shadow: 0px 1px 2px rgba(60, 64, 67, 0.3), 0px 1px 3px 1px rgba(60, 64, 67, 0.15);\n",
              "        fill: #174EA6;\n",
              "      }\n",
              "\n",
              "      [theme=dark] .colab-df-generate {\n",
              "        background-color: #3B4455;\n",
              "        fill: #D2E3FC;\n",
              "      }\n",
              "\n",
              "      [theme=dark] .colab-df-generate:hover {\n",
              "        background-color: #434B5C;\n",
              "        box-shadow: 0px 1px 3px 1px rgba(0, 0, 0, 0.15);\n",
              "        filter: drop-shadow(0px 1px 2px rgba(0, 0, 0, 0.3));\n",
              "        fill: #FFFFFF;\n",
              "      }\n",
              "    </style>\n",
              "    <button class=\"colab-df-generate\" onclick=\"generateWithVariable('df')\"\n",
              "            title=\"Generate code using this dataframe.\"\n",
              "            style=\"display:none;\">\n",
              "\n",
              "  <svg xmlns=\"http://www.w3.org/2000/svg\" height=\"24px\"viewBox=\"0 0 24 24\"\n",
              "       width=\"24px\">\n",
              "    <path d=\"M7,19H8.4L18.45,9,17,7.55,7,17.6ZM5,21V16.75L18.45,3.32a2,2,0,0,1,2.83,0l1.4,1.43a1.91,1.91,0,0,1,.58,1.4,1.91,1.91,0,0,1-.58,1.4L9.25,21ZM18.45,9,17,7.55Zm-12,3A5.31,5.31,0,0,0,4.9,8.1,5.31,5.31,0,0,0,1,6.5,5.31,5.31,0,0,0,4.9,4.9,5.31,5.31,0,0,0,6.5,1,5.31,5.31,0,0,0,8.1,4.9,5.31,5.31,0,0,0,12,6.5,5.46,5.46,0,0,0,6.5,12Z\"/>\n",
              "  </svg>\n",
              "    </button>\n",
              "    <script>\n",
              "      (() => {\n",
              "      const buttonEl =\n",
              "        document.querySelector('#id_b95b3d8c-419e-4c15-bf86-2b41ef88f705 button.colab-df-generate');\n",
              "      buttonEl.style.display =\n",
              "        google.colab.kernel.accessAllowed ? 'block' : 'none';\n",
              "\n",
              "      buttonEl.onclick = () => {\n",
              "        google.colab.notebook.generateWithVariable('df');\n",
              "      }\n",
              "      })();\n",
              "    </script>\n",
              "  </div>\n",
              "\n",
              "    </div>\n",
              "  </div>\n"
            ],
            "application/vnd.google.colaboratory.intrinsic+json": {
              "type": "dataframe",
              "variable_name": "df",
              "summary": "{\n  \"name\": \"df\",\n  \"rows\": 5,\n  \"fields\": [\n    {\n      \"column\": \"Smart Thermostat\",\n      \"properties\": {\n        \"dtype\": \"number\",\n        \"std\": 23,\n        \"min\": 20,\n        \"max\": 80,\n        \"num_unique_values\": 5,\n        \"samples\": [\n          80,\n          20,\n          60\n        ],\n        \"semantic_type\": \"\",\n        \"description\": \"\"\n      }\n    },\n    {\n      \"column\": \"Smart Light\",\n      \"properties\": {\n        \"dtype\": \"number\",\n        \"std\": 22,\n        \"min\": 50,\n        \"max\": 100,\n        \"num_unique_values\": 4,\n        \"samples\": [\n          100,\n          50,\n          70\n        ],\n        \"semantic_type\": \"\",\n        \"description\": \"\"\n      }\n    }\n  ]\n}"
            }
          },
          "metadata": {},
          "execution_count": 15
        }
      ]
    },
    {
      "cell_type": "code",
      "source": [
        "#create the observed frequency table\n",
        "observed_freq=df[['Smart Thermostat','Smart Light']].to_numpy()"
      ],
      "metadata": {
        "id": "dpLWOnYuVxXs"
      },
      "execution_count": null,
      "outputs": []
    },
    {
      "cell_type": "code",
      "source": [
        "observed_freq"
      ],
      "metadata": {
        "colab": {
          "base_uri": "https://localhost:8080/"
        },
        "id": "RxJGj6boWIqV",
        "outputId": "e45020c8-3f54-4bf2-8e0c-a8a1fea62515"
      },
      "execution_count": null,
      "outputs": [
        {
          "output_type": "execute_result",
          "data": {
            "text/plain": [
              "array([[ 50,  70],\n",
              "       [ 80, 100],\n",
              "       [ 60,  90],\n",
              "       [ 30,  50],\n",
              "       [ 20,  50]])"
            ]
          },
          "metadata": {},
          "execution_count": 17
        }
      ]
    },
    {
      "cell_type": "markdown",
      "source": [
        "**1. State the Hypotheses:**"
      ],
      "metadata": {
        "id": "rh8pQ-0bVBPB"
      }
    },
    {
      "cell_type": "code",
      "source": [
        "df.plot(kind='bar',stacked=False)"
      ],
      "metadata": {
        "colab": {
          "base_uri": "https://localhost:8080/",
          "height": 545
        },
        "id": "Y65kioggTrMQ",
        "outputId": "10e7b5cc-8663-4113-dd02-3946ed9fb55a"
      },
      "execution_count": null,
      "outputs": [
        {
          "output_type": "execute_result",
          "data": {
            "text/plain": [
              "<Axes: >"
            ]
          },
          "metadata": {},
          "execution_count": 18
        },
        {
          "output_type": "display_data",
          "data": {
            "text/plain": [
              "<Figure size 640x480 with 1 Axes>"
            ],
            "image/png": "[encoded data removed]"
          },
          "metadata": {}
        }
      ]
    },
    {
      "cell_type": "markdown",
      "source": [
        "#define the null and the alternative hypothesis\n",
        "1.null hypothesis-variables are independent--The distribution of the customers satisfaction level is independent upon the smart home devices\n",
        "2.Alternative Hypothesis--variables are dependent---The distribution of the customers satisfaction level is dependent upon the smart home devices"
      ],
      "metadata": {
        "id": "xNxvYYqGaBZY"
      }
    },
    {
      "cell_type": "code",
      "source": [
        "# Hypotheses for Chi-Square Test for Independence\n",
        "H0=\"The distribution of the customers satisfaction level is independent upon purchased smart home devices (Smart Thermostats vs. Smart Lights).\"\n",
        "H1=\"The distribution of the customers satisfaction level is dependent  upon purchased smart home devices (Smart Thermostats vs. Smart Lights).\"\n",
        "\n",
        "print(f\"Null Hypothesis (H₀): {H0}\")\n",
        "print(f\"Alternative Hypothesis (H₁): {H1}\")\n"
      ],
      "metadata": {
        "colab": {
          "base_uri": "https://localhost:8080/"
        },
        "id": "2YOUb3_Sct8w",
        "outputId": "bae42e0a-81ea-4b53-ca75-a4a4d81a261b"
      },
      "execution_count": null,
      "outputs": [
        {
          "output_type": "stream",
          "name": "stdout",
          "text": [
            "Null Hypothesis (H₀): The distribution of the customers satisfaction level is independent upon purchased smart home devices (Smart Thermostats vs. Smart Lights).\n",
            "Alternative Hypothesis (H₁): The distribution of the customers satisfaction level is dependent  upon purchased smart home devices (Smart Thermostats vs. Smart Lights).\n"
          ]
        }
      ]
    },
    {
      "cell_type": "code",
      "source": [
        "#perform the chi-square test\n",
        "chi2,p,dof,exp=chi2_contingency(data)     # test statistic, p-value,df,expected frequency\n"
      ],
      "metadata": {
        "id": "PJ-_tCrIVKzj"
      },
      "execution_count": null,
      "outputs": []
    },
    {
      "cell_type": "code",
      "source": [
        "print(\"chi-square statistic: \",chi2)\n",
        "print(\"p-value:\",p )\n",
        "print(\"Degree Of freedom:\",dof)\n",
        "print(\"Expected Frequencies: \",exp)"
      ],
      "metadata": {
        "colab": {
          "base_uri": "https://localhost:8080/"
        },
        "id": "9DDIIC38Wtrs",
        "outputId": "ad26aa22-2e37-491e-91c6-9873aa9bc933"
      },
      "execution_count": null,
      "outputs": [
        {
          "output_type": "stream",
          "name": "stdout",
          "text": [
            "chi-square statistic:  5.638227513227513\n",
            "p-value: 0.22784371130697179\n",
            "Degree Of freedom: 4\n",
            "Expected Frequencies:  [[ 48.  72.]\n",
            " [ 72. 108.]\n",
            " [ 60.  90.]\n",
            " [ 32.  48.]\n",
            " [ 28.  42.]]\n"
          ]
        }
      ]
    },
    {
      "cell_type": "code",
      "source": [
        "#Chi-Square statistic (χ²): This tells us how much the observed data deviates from what we would expect if the variables were independent.\n",
        "chi2"
      ],
      "metadata": {
        "colab": {
          "base_uri": "https://localhost:8080/"
        },
        "id": "6HuOCD9DWxLg",
        "outputId": "fc3267f4-4075-48e9-a840-37ed03ac43ea"
      },
      "execution_count": null,
      "outputs": [
        {
          "output_type": "execute_result",
          "data": {
            "text/plain": [
              "5.638227513227513"
            ]
          },
          "metadata": {},
          "execution_count": 22
        }
      ]
    },
    {
      "cell_type": "code",
      "source": [
        "#p-value, we can determine whether to reject the null hypothesis.\n",
        "p\n",
        "\n",
        "#If the p-value is less than the significance level (alpha= 0.05), we reject the null hypothesis and accept the alternative hypothesis\n",
        "#if the p-value is greate than the significance level(alpha=0.05),we accept the null hypothesis and reject the alternative hypothesis\n"
      ],
      "metadata": {
        "colab": {
          "base_uri": "https://localhost:8080/"
        },
        "id": "ral2_hb1XUJr",
        "outputId": "c9e8a8aa-bf0b-4d64-b9ae-5d0008caf38f"
      },
      "execution_count": null,
      "outputs": [
        {
          "output_type": "execute_result",
          "data": {
            "text/plain": [
              "0.22784371130697179"
            ]
          },
          "metadata": {},
          "execution_count": 23
        }
      ]
    },
    {
      "cell_type": "code",
      "source": [
        "a=0.05\n",
        "if p<a:\n",
        "  print(\"Reject null hypothesis indicating that there is a significant association between the type of device and customer satisfaction.\")\n",
        "else:\n",
        "  print(\"fail to reject the null hypothesis, indicating no significant association between the variables. )\")\n"
      ],
      "metadata": {
        "colab": {
          "base_uri": "https://localhost:8080/"
        },
        "id": "wSwL0JDzXrgM",
        "outputId": "4f4e8782-cf5c-46af-9d2b-7e0c7834880a"
      },
      "execution_count": null,
      "outputs": [
        {
          "output_type": "stream",
          "name": "stdout",
          "text": [
            "fail to reject the null hypothesis, indicating no significant association between the variables. )\n"
          ]
        }
      ]
    },
    {
      "cell_type": "code",
      "source": [
        "#depending upon the p value and the alpha value comaprison the result is the\n",
        "#reject the null hypothesis and conclude that there is a significant association between the type of smart home device and customer satisfaction level"
      ],
      "metadata": {
        "id": "q8cldWEOaz_G"
      },
      "execution_count": null,
      "outputs": []
    },
    {
      "cell_type": "code",
      "source": [
        "dof   #degree of the freedom"
      ],
      "metadata": {
        "colab": {
          "base_uri": "https://localhost:8080/"
        },
        "id": "pV1rMta0SH0f",
        "outputId": "431f64c6-e406-48f9-f142-ac85c7487507"
      },
      "execution_count": null,
      "outputs": [
        {
          "output_type": "execute_result",
          "data": {
            "text/plain": [
              "4"
            ]
          },
          "metadata": {},
          "execution_count": 26
        }
      ]
    },
    {
      "cell_type": "code",
      "source": [
        "exp"
      ],
      "metadata": {
        "colab": {
          "base_uri": "https://localhost:8080/"
        },
        "id": "-5D0cMLicTLx",
        "outputId": "4b16630d-f946-4def-cfa4-f2ee38c6992f"
      },
      "execution_count": null,
      "outputs": [
        {
          "output_type": "execute_result",
          "data": {
            "text/plain": [
              "array([[ 48.,  72.],\n",
              "       [ 72., 108.],\n",
              "       [ 60.,  90.],\n",
              "       [ 32.,  48.],\n",
              "       [ 28.,  42.]])"
            ]
          },
          "metadata": {},
          "execution_count": 27
        }
      ]
    },
    {
      "cell_type": "markdown",
      "source": [
        "**2. Compute the Chi-Square Statistic**\n",
        "\n"
      ],
      "metadata": {
        "id": "IWLOTLuqtcaR"
      }
    },
    {
      "cell_type": "code",
      "source": [
        "import numpy as np\n",
        "import scipy.stats as stats\n",
        "\n",
        "observed = np.array([\n",
        "    [50, 70],\n",
        "    [80, 100],\n",
        "    [60, 90],\n",
        "    [30, 50],\n",
        "    [20, 50]\n",
        "])\n",
        "\n",
        "row_totals = observed.sum(axis=1)\n",
        "col_totals = observed.sum(axis=0)\n",
        "grand_total = observed.sum()\n",
        "\n",
        "expected = np.outer(row_totals, col_totals) / grand_total\n",
        "\n",
        "chi2_stat = ((observed - expected) ** 2 / expected).sum()\n",
        "\n",
        "print(\"Chi-Square Statistic (χ²):\", chi2_stat)\n",
        "\n"
      ],
      "metadata": {
        "id": "HH_wXR1E0ea2",
        "colab": {
          "base_uri": "https://localhost:8080/"
        },
        "outputId": "81e7f48f-7b08-468d-f7be-10e440779042"
      },
      "execution_count": null,
      "outputs": [
        {
          "output_type": "stream",
          "name": "stdout",
          "text": [
            "Chi-Square Statistic (χ²): 5.638227513227513\n"
          ]
        }
      ]
    },
    {
      "cell_type": "markdown",
      "source": [
        "**3. Determine the Critical Value:**"
      ],
      "metadata": {
        "id": "GBeQZ61WMuVp"
      }
    },
    {
      "cell_type": "code",
      "source": [
        "#significance level = alpha=0.05\n",
        "alpha=0.05\n",
        "from scipy.stats import chi2_contingency,chi2\n",
        "#degree of freedom(dof)=(no.of rows-1)*(no.of columns-1)\n",
        "#(5-1)*(2-1)\n",
        "critical_value=chi2.ppf(1-alpha,dof)"
      ],
      "metadata": {
        "id": "8fzGSRSyMZ-d"
      },
      "execution_count": null,
      "outputs": []
    },
    {
      "cell_type": "code",
      "source": [
        "critical_value"
      ],
      "metadata": {
        "colab": {
          "base_uri": "https://localhost:8080/"
        },
        "id": "rCMgQn6LNX_B",
        "outputId": "5230936d-de9a-481e-cd5a-a1be3af9aa34"
      },
      "execution_count": null,
      "outputs": [
        {
          "output_type": "execute_result",
          "data": {
            "text/plain": [
              "9.487729036781154"
            ]
          },
          "metadata": {},
          "execution_count": 31
        }
      ]
    },
    {
      "cell_type": "code",
      "source": [
        "\n",
        "print(\"Degree Of freedom:\",dof)\n",
        "print(\"critical value: \",critical_value)"
      ],
      "metadata": {
        "colab": {
          "base_uri": "https://localhost:8080/"
        },
        "id": "sG1c_mHEVJTu",
        "outputId": "5d8ef368-d4b2-4733-8014-2e626c657259"
      },
      "execution_count": null,
      "outputs": [
        {
          "output_type": "stream",
          "name": "stdout",
          "text": [
            "Degree Of freedom: 4\n",
            "critical value:  9.487729036781154\n"
          ]
        }
      ]
    },
    {
      "cell_type": "markdown",
      "source": [
        "**4. Make a Decision:**\n",
        "\n",
        "compare the chi_square_statastics and the critical_value\n",
        "\n",
        "If the Chi-Square statistic is greater than the critical value, we reject the null hypothesis.\n",
        "\n",
        "If the Chi-Square statistic is less than or equal to the critical value, we fail to reject the null hypothesis."
      ],
      "metadata": {
        "id": "609zGhNkNx7s"
      }
    },
    {
      "cell_type": "code",
      "source": [
        "if chi2_stat >critical_value:\n",
        "    print(\"Reject the null hypothesis.\")\n",
        "    print(\"There is a significant association between the type of device and customer satisfaction levels.\")\n",
        "else:\n",
        "    print(\"Fail to reject the null hypothesis.\")\n",
        "    print(\"There is no significant association between the type of device and customer satisfaction levels.\")"
      ],
      "metadata": {
        "colab": {
          "base_uri": "https://localhost:8080/"
        },
        "id": "3Jw9fF-aNrHU",
        "outputId": "c72ead7d-f69a-4bfa-da22-badc305a30fa"
      },
      "execution_count": null,
      "outputs": [
        {
          "output_type": "stream",
          "name": "stdout",
          "text": [
            "Fail to reject the null hypothesis.\n",
            "There is no significant association between the type of device and customer satisfaction levels.\n"
          ]
        }
      ]
    },
    {
      "cell_type": "markdown",
      "source": [
        "**HYPOTHESIS TESTING**"
      ],
      "metadata": {
        "id": "dRf7XpOpqCsf"
      }
    },
    {
      "cell_type": "markdown",
      "source": [
        "**1. State the Hypotheses statement:**"
      ],
      "metadata": {
        "id": "grIR5MzLqHfH"
      }
    },
    {
      "cell_type": "code",
      "source": [
        "# Null Hypothesis (H₀): The mean weekly operating cost is equal to the theoretical mean weekly cost.\n",
        "# 𝜇=1000 + 5⋅600(4000)\n",
        "\n",
        "# Alternative Hypothesis (H₁): The mean weekly operating cost is not equal to the theoretical mean weekly cost.\n",
        "# 𝜇 != 1000+5⋅600(4000)\n"
      ],
      "metadata": {
        "id": "mg8xcNyc0OCF"
      },
      "execution_count": null,
      "outputs": []
    },
    {
      "cell_type": "code",
      "source": [
        "print(\"Hypothesis Testing for Weekly Operating Costs :\")\n",
        "print()\n",
        "print(\"1. State the Hypotheses:\")\n",
        "print(\"Null Hypothesis (H₀): The mean weekly operating cost is equal to the theoretical mean weekly cost (4000 Rs).\")\n",
        "print(\"Alternative Hypothesis (H₁): The mean weekly operating cost is not equal to the theoretical mean weekly cost (4000 Rs).\")\n",
        "print()\n"
      ],
      "metadata": {
        "colab": {
          "base_uri": "https://localhost:8080/"
        },
        "id": "hue2G4nbw6bu",
        "outputId": "8556da25-ce58-496b-dcb1-b5463284c866"
      },
      "execution_count": null,
      "outputs": [
        {
          "output_type": "stream",
          "name": "stdout",
          "text": [
            "Hypothesis Testing for Weekly Operating Costs :\n",
            "\n",
            "1. State the Hypotheses:\n",
            "Null Hypothesis (H₀): The mean weekly operating cost is equal to the theoretical mean weekly cost (4000 Rs).\n",
            "Alternative Hypothesis (H₁): The mean weekly operating cost is not equal to the theoretical mean weekly cost (4000 Rs).\n",
            "\n"
          ]
        }
      ]
    },
    {
      "cell_type": "markdown",
      "source": [
        "**#Q.2 Calculate the Test Statistic:**"
      ],
      "metadata": {
        "id": "FQ1aR5yiqaFo"
      }
    },
    {
      "cell_type": "code",
      "source": [
        "import math\n",
        "\n",
        "sample_mean = 3050  # weekly operating cost\n",
        "theoretical_mean =     1000 + 5*600           #1000(fixed cost) + 5(days or units) * 600(variable cost)  # Rs expected mean\n",
        "standered_deviation = 5 * 25  # Rs  it gives the std_dev per day or per unit that is 125\n",
        "sample_size = 25   #total number of observations\n",
        "\n",
        "\n",
        "#fromula for the hypothesis testing-x̄(sample_mean)-μ(therotical_mean) / S(std dev)/sqrt(sample size)\n",
        "\n",
        "t = (sample_mean - theoretical_mean) / (standered_deviation / math.sqrt(sample_size))\n",
        "\n",
        "print(t)\n",
        "\n",
        "print(\"Calculate the Test Statistic:\")\n",
        "print(f\"Sample Mean (x̄): {sample_mean} Rs\")\n",
        "print(f\"Theoretical Mean (μ): {theoretical_mean} Rs\")\n",
        "print(f\"Standard Deviation (σ): {standered_deviation} Rs\")\n",
        "print(f\"Sample Size (n): {sample_size}\")\n",
        "print()\n",
        "print(f\"Test Statistic (t): {t}\")\n",
        "print()"
      ],
      "metadata": {
        "id": "7wwrr-ARqVVx",
        "colab": {
          "base_uri": "https://localhost:8080/"
        },
        "outputId": "3bff5c10-70ef-4c43-c022-b2c02a64fd38"
      },
      "execution_count": null,
      "outputs": [
        {
          "output_type": "stream",
          "name": "stdout",
          "text": [
            "-38.0\n",
            "Calculate the Test Statistic:\n",
            "Sample Mean (x̄): 3050 Rs\n",
            "Theoretical Mean (μ): 4000 Rs\n",
            "Standard Deviation (σ): 125 Rs\n",
            "Sample Size (n): 25\n",
            "\n",
            "Test Statistic (t): -38.0\n",
            "\n"
          ]
        }
      ]
    },
    {
      "cell_type": "markdown",
      "source": [
        "**3. Determine the Critical Value:**"
      ],
      "metadata": {
        "id": "n3TGZQIByz_K"
      }
    },
    {
      "cell_type": "code",
      "source": [
        "#Using the alpha level of 5% (α = 0.05), determine the critical value from the standard normal (Z) distribution table.\n",
        "\n",
        "#Calculating Critical Values for a Two-Tailed Test Using the Z-distribution:\n",
        "#𝛼=0.05\n",
        "#Two-tailed test:\n",
        "#𝛼/2==0.025\n",
        "# the Z-value corresponding to a cumulative probability of\n",
        "#1−𝛼/2=0.975\n",
        "#Using a Z-table or calculator:\n",
        "#The Z-value that corresponds to a cumulative probability of 0.975 is approximately 1.96.\n",
        "#Thus, the critical values for a two-tailed test at\n",
        "#α=0.05:\n",
        "#Lower critical value: -1.96\n",
        "#Upper critical value: 1.96\n",
        "\n",
        "# Critical values for a two-tailed test at alpha = 0.05\n",
        "critical_value_lower = -1.96\n",
        "critical_value_upper = 1.96\n",
        "\n",
        "\n",
        "print(\" Determine the Critical Value:\")\n",
        "print(f\"Critical Values (Z_α/2): {critical_value_lower}, {critical_value_upper}\")\n",
        "print()"
      ],
      "metadata": {
        "colab": {
          "base_uri": "https://localhost:8080/"
        },
        "id": "Ncklga79xjFm",
        "outputId": "32bd81e2-0f77-4cc2-a899-0ae53ee125e1"
      },
      "execution_count": null,
      "outputs": [
        {
          "output_type": "stream",
          "name": "stdout",
          "text": [
            " Determine the Critical Value:\n",
            "Critical Values (Z_α/2): -1.96, 1.96\n",
            "\n"
          ]
        }
      ]
    },
    {
      "cell_type": "markdown",
      "source": [
        "**4. Make a Decision:**"
      ],
      "metadata": {
        "id": "lNAwb58DzmMf"
      }
    },
    {
      "cell_type": "code",
      "source": [
        " #the t-distribution value is the out of the critical values range and within critical value range it decided the accept or reject the null hypothesis.\n",
        "#Reject the null hypothesis if the test statistic falls outside the critical values range\n",
        "#Fail to reject the null hypothesis (i.e., accept the null hypothesis) if the test statistic falls within the critical values range\n",
        "\n",
        "print(\" Make a Decision:\")\n",
        "if t < critical_value_lower or t > critical_value_upper:\n",
        "    decision = \"Reject the null hypothesis.\"\n",
        "    evidence = \"There is a significant difference between the mean weekly operating cost and the theoretical mean weekly cost.\"\n",
        "else:\n",
        "    decision = \"Fail to reject the null hypothesis.\"\n",
        "    evidence = \"There is no significant difference between the mean weekly operating cost and the theoretical mean weekly cost.\"\n",
        "\n",
        "print(decision)\n",
        "print(evidence)\n",
        "print()"
      ],
      "metadata": {
        "colab": {
          "base_uri": "https://localhost:8080/"
        },
        "id": "sydIZksYzIRc",
        "outputId": "49d76e86-bebc-4578-f0b7-1ef03411a7e4"
      },
      "execution_count": null,
      "outputs": [
        {
          "output_type": "stream",
          "name": "stdout",
          "text": [
            " Make a Decision:\n",
            "Reject the null hypothesis.\n",
            "There is a significant difference between the mean weekly operating cost and the theoretical mean weekly cost.\n",
            "\n"
          ]
        }
      ]
    },
    {
      "cell_type": "markdown",
      "source": [
        "**5. Conclusion:**"
      ],
      "metadata": {
        "id": "2AwP7R2Q0ynM"
      }
    },
    {
      "cell_type": "code",
      "source": [
        "#Based on the decision in step 4,\n",
        "#conclude whether there is strong evidence to support the restaurant owners' claim that the weekly operating costs are higher than the model suggests.\n",
        "\n",
        "print(\" Conclusion:\")\n",
        "if t < critical_value_lower:\n",
        "    conclusion = \"There is strong evidence to suggest that the weekly operating costs are significantly lower than the model suggests.\"\n",
        "elif t > critical_value_upper:\n",
        "    conclusion = \"There is strong evidence to suggest that the weekly operating costs are significantly higher than the model suggests.\"\n",
        "else:\n",
        "    conclusion = \"There is no strong evidence to suggest a significant difference in weekly operating costs compared to the model.\"\n",
        "\n",
        "print(conclusion)"
      ],
      "metadata": {
        "colab": {
          "base_uri": "https://localhost:8080/"
        },
        "id": "T_hY4rzDxSNR",
        "outputId": "161b8378-3592-4be8-b179-8d4643f67234"
      },
      "execution_count": null,
      "outputs": [
        {
          "output_type": "stream",
          "name": "stdout",
          "text": [
            " Conclusion:\n",
            "There is strong evidence to suggest that the weekly operating costs are significantly lower than the model suggests.\n"
          ]
        }
      ]
    },
    {
      "cell_type": "code",
      "source": [],
      "metadata": {
        "id": "mipduBSu1OYI"
      },
      "execution_count": null,
      "outputs": []
    }
  ]
}